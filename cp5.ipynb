{
 "cells": [
  {
   "cell_type": "code",
   "execution_count": 116,
   "metadata": {},
   "outputs": [],
   "source": [
    "import random"
   ]
  },
  {
   "cell_type": "code",
   "execution_count": 4,
   "metadata": {},
   "outputs": [],
   "source": [
    "def modexp(a, p, m):\n",
    "  if p == 0:\n",
    "    return 1\n",
    "  if p == 1:\n",
    "    return a % m\n",
    "  a_p = a\n",
    "  i = 1\n",
    "  while i*2 <= p:\n",
    "    a_p = (a_p * a_p) % m\n",
    "    i *= 2\n",
    "  return (a_p * modexp(a, p-i, m)) % m"
   ]
  },
  {
   "cell_type": "markdown",
   "metadata": {},
   "source": [
    "### Challenge 33"
   ]
  },
  {
   "cell_type": "code",
   "execution_count": 84,
   "metadata": {},
   "outputs": [
    {
     "name": "stdout",
     "output_type": "stream",
     "text": [
      "36\n"
     ]
    }
   ],
   "source": [
    "p = 37\n",
    "g = 5\n",
    "\n",
    "a = random.randint(0, p-1)\n",
    "A = modexp(g, a, p)\n",
    "\n",
    "b = random.randint(0, p-1)\n",
    "B = modexp(g, b, p)\n",
    "\n",
    "s = modexp(B, a, p)\n",
    "s_ = modexp(A, b, p)\n",
    "\n",
    "assert s == s_\n",
    "print(s)"
   ]
  },
  {
   "cell_type": "code",
   "execution_count": 85,
   "metadata": {},
   "outputs": [
    {
     "name": "stdout",
     "output_type": "stream",
     "text": [
      "2261578341463150962949917447080753488146348936583348253351029011333326328132331760639833595923143550573868258030909252914197695502309971595062194036655611024972877785222316969852040485520080871952561540243810419781665595916390219356501623822391431801618072024787212065278435172564363911941220427743256796216564616080648149640035019362171312645437404506362598867087505429112075442623077634688502591963459639700676024392872015590242569865903298088855229889546359038\n"
     ]
    }
   ],
   "source": [
    "p = int(\n",
    "\"\"\"\n",
    "0xffffffffffffffffc90fdaa22168c234c4c6628b80dc1cd129024\n",
    "e088a67cc74020bbea63b139b22514a08798e3404ddef9519b3cd\n",
    "3a431b302b0a6df25f14374fe1356d6d51c245e485b576625e7ec\n",
    "6f44c42e9a637ed6b0bff5cb6f406b7edee386bfb5a899fa5ae9f\n",
    "24117c4b1fe649286651ece45b3dc2007cb8a163bf0598da48361\n",
    "c55d39a69163fa8fd24cf5f83655d23dca3ad961c62f356208552\n",
    "bb9ed529077096966d670c354e4abc9804f1746c08ca237327fff\n",
    "fffffffffffff\n",
    "\"\"\".replace(\"\\n\", \"\"), 0)\n",
    "\n",
    "g = 2\n",
    "\n",
    "a = random.randint(0, p-1)\n",
    "A = modexp(g, a, p)\n",
    "\n",
    "b = random.randint(0, p-1)\n",
    "B = modexp(g, b, p)\n",
    "\n",
    "s = modexp(B, a, p)\n",
    "s_ = modexp(A, b, p)\n",
    "\n",
    "assert s == s_\n",
    "print(s)"
   ]
  },
  {
   "cell_type": "markdown",
   "metadata": {},
   "source": [
    "### Challenge 34"
   ]
  },
  {
   "cell_type": "code",
   "execution_count": 6,
   "metadata": {},
   "outputs": [],
   "source": [
    "from Crypto.Cipher import AES\n",
    "from Crypto.Hash import SHA\n",
    "\n",
    "def sha1(msg):\n",
    "    h = SHA.new()\n",
    "    h.update(msg)\n",
    "    return h.digest()\n",
    "\n",
    "def random_bytes(len):\n",
    "    return bytes([random.randint(0,255) for _ in range(len)])"
   ]
  },
  {
   "cell_type": "code",
   "execution_count": 102,
   "metadata": {},
   "outputs": [],
   "source": [
    "class A_:\n",
    "    \n",
    "    def __init__(self):\n",
    "        self.p = p\n",
    "        self.g = g\n",
    "        self.a = random.randint(0, self.p-1)\n",
    "        self.A = modexp(self.g, self.a, self.p)\n",
    "        self.iv = random_bytes(16)\n",
    "        self.msg = b\"attack at dawn..\"\n",
    "\n",
    "    def send_params(self):\n",
    "        return (self.p, self.g, self.A)\n",
    "    \n",
    "    def receive_params(self, B):\n",
    "        self.B = B\n",
    "        self.s = modexp(self.B, self.a, self.p)\n",
    "        self.k = sha1(self.s.to_bytes(256, 'big'))[:16]\n",
    "    \n",
    "    def send_msg(self):\n",
    "        cipher = AES.new(self.k, AES.MODE_CBC, self.iv)\n",
    "        return cipher.encrypt(self.msg) + self.iv\n",
    "    \n",
    "    def receive_msg(self, cmsg):\n",
    "        cipher = AES.new(self.k, AES.MODE_CBC, self.iv)\n",
    "        assert cipher.decrypt(cmsg[:-16]) == self.msg\n",
    "\n",
    "        \n",
    "class B_:\n",
    "        \n",
    "    def receive_params(self, params):\n",
    "        self.p, self.g, self.A = params\n",
    "        self.b = random.randint(0, self.p-1)\n",
    "        self.B = modexp(self.g, self.b, self.p)\n",
    "        self.s = modexp(self.A, self.b, self.p)\n",
    "        self.k = sha1(self.s.to_bytes(256, 'big'))[:16]\n",
    "        \n",
    "    def send_params(self):\n",
    "        return self.B\n",
    "    \n",
    "    def receive_msg(self, cmsg):\n",
    "        self.iv = cmsg[-16:]\n",
    "        cipher = AES.new(self.k, AES.MODE_CBC, self.iv)\n",
    "        self.msg = cipher.decrypt(cmsg[:-16])\n",
    "    \n",
    "    def send_msg(self):\n",
    "        cipher = AES.new(self.k, AES.MODE_CBC, self.iv)\n",
    "        return cipher.encrypt(self.msg) + self.iv\n",
    "\n",
    "        \n",
    "class M_:\n",
    "    \n",
    "    def receive_params_A(self, params):\n",
    "        self.p, self.g, self.A = params\n",
    "\n",
    "    def send_params_B(self, p=None, g=None, A=None):\n",
    "        if p is None: p = self.p\n",
    "        if g is None: g = self.g\n",
    "        if A is None: A = self.A\n",
    "        return (p, g, A)\n",
    "        \n",
    "    def receive_params_B(self, B):\n",
    "        self.B = B\n",
    "    \n",
    "    def send_params_A(self, B=None):\n",
    "        if B is None: B = self.B\n",
    "        return B\n",
    "    \n",
    "    def receive_msg_A(self, cmsg):\n",
    "        self.cmsg = cmsg\n",
    "        \n",
    "    def send_msg_B(self):\n",
    "        return self.cmsg\n",
    "    \n",
    "    def receive_msg_B(self, cmsg):\n",
    "        self.cmsg = cmsg\n",
    "        \n",
    "    def send_msg_A(self):\n",
    "        return self.cmsg"
   ]
  },
  {
   "cell_type": "code",
   "execution_count": 103,
   "metadata": {},
   "outputs": [],
   "source": [
    "A = A_()\n",
    "B = B_()\n",
    "\n",
    "# A->B\n",
    "B.receive_params(A.send_params())\n",
    "# B->A\n",
    "A.receive_params(B.send_params())\n",
    "# A->B\n",
    "B.receive_msg(A.send_msg())\n",
    "# B->A\n",
    "A.receive_msg(B.send_msg())"
   ]
  },
  {
   "cell_type": "code",
   "execution_count": 104,
   "metadata": {},
   "outputs": [
    {
     "name": "stdout",
     "output_type": "stream",
     "text": [
      "b'attack at dawn..'\n"
     ]
    }
   ],
   "source": [
    "A = A_()\n",
    "B = B_()\n",
    "M = M_()\n",
    "\n",
    "# A->M\n",
    "M.receive_params_A(A.send_params())\n",
    "# M->B\n",
    "B.receive_params(M.send_params_B(A=M.p))\n",
    "# B->M\n",
    "M.receive_params_B(B.send_params())\n",
    "# M->A\n",
    "A.receive_params(M.send_params_A(B=M.p))\n",
    "# A->M\n",
    "M.receive_msg_A(A.send_msg())\n",
    "# M->B\n",
    "B.receive_msg(M.send_msg_B())\n",
    "# B->M\n",
    "M.receive_msg_B(B.send_msg())\n",
    "# M->A\n",
    "A.receive_msg(A.send_msg())\n",
    "\n",
    "cipher = AES.new(sha1((0).to_bytes(256, 'big'))[:16], AES.MODE_CBC, M.cmsg[-16:])\n",
    "print(cipher.decrypt(M.cmsg[:-16]))"
   ]
  },
  {
   "cell_type": "markdown",
   "metadata": {},
   "source": [
    "### Challenge 35"
   ]
  },
  {
   "cell_type": "code",
   "execution_count": 113,
   "metadata": {},
   "outputs": [],
   "source": [
    "A = A_()\n",
    "B = B_()\n",
    "M = M_()\n",
    "\n",
    "def mitm_attack(s, p_icpt=None, g_icpt=None, A_icpt=None, B_icpt=None):\n",
    "    # A->M\n",
    "    M.receive_params_A(A.send_params())\n",
    "    # M->B\n",
    "    B.receive_params(M.send_params_B(p=p_icpt, g=g_icpt, A=A_icpt))\n",
    "    # B->M\n",
    "    M.receive_params_B(B.send_params())\n",
    "    # M->A\n",
    "    A.receive_params(M.send_params_A(B=B_icpt))\n",
    "\n",
    "    # A->M\n",
    "    M.receive_msg_A(A.send_msg())\n",
    "    # M->B\n",
    "    B.receive_msg(M.send_msg_B())\n",
    "    # B->M\n",
    "    M.receive_msg_B(B.send_msg())\n",
    "    # M->A\n",
    "    A.receive_msg(A.send_msg())\n",
    "\n",
    "    cipher = AES.new(sha1(s.to_bytes(256, 'big'))[:16], AES.MODE_CBC, M.cmsg[-16:])\n",
    "    print(cipher.decrypt(M.cmsg[:-16]))   "
   ]
  },
  {
   "cell_type": "code",
   "execution_count": 114,
   "metadata": {},
   "outputs": [
    {
     "name": "stdout",
     "output_type": "stream",
     "text": [
      "b'attack at dawn..'\n"
     ]
    }
   ],
   "source": [
    "mitm_attack(s=1, g_icpt=1)"
   ]
  },
  {
   "cell_type": "code",
   "execution_count": 115,
   "metadata": {},
   "outputs": [
    {
     "name": "stdout",
     "output_type": "stream",
     "text": [
      "b'attack at dawn..'\n"
     ]
    }
   ],
   "source": [
    "mitm_attack(s=0, g_icpt=p)"
   ]
  },
  {
   "cell_type": "markdown",
   "metadata": {},
   "source": [
    "For the case when $g=p-1$, note that (for example) $g^a = (p-1)^a = \\sum_{i=0}^{a} (-1)^a p^a \\equiv (-1)^a \\pmod p$ and so $s\\equiv\\pm1 \\pmod p$"
   ]
  },
  {
   "cell_type": "code",
   "execution_count": 116,
   "metadata": {},
   "outputs": [
    {
     "name": "stdout",
     "output_type": "stream",
     "text": [
      "b'attack at dawn..'\n",
      "b'\\xd4\\xbeo\\x8ah\\xb3\\x0b.\\x80\\xa5\\xe2[\\x83S\\x08\\x95'\n"
     ]
    }
   ],
   "source": [
    "mitm_attack(s=1, g_icpt=p-1)\n",
    "mitm_attack(s=p-1, g_icpt=p-1)"
   ]
  },
  {
   "cell_type": "markdown",
   "metadata": {},
   "source": [
    "### Challenge 36"
   ]
  },
  {
   "cell_type": "code",
   "execution_count": 95,
   "metadata": {},
   "outputs": [],
   "source": [
    "from Crypto.Hash import SHA256, HMAC\n",
    "\n",
    "def sha256(msg):\n",
    "    h = SHA256.new()\n",
    "    h.update(msg)\n",
    "    return h.digest()\n",
    "\n",
    "def hmac_sha256(key, msg):\n",
    "    h = HMAC.new(key, digestmod=SHA256)\n",
    "    h.update(msg)\n",
    "    return h.digest()"
   ]
  },
  {
   "cell_type": "code",
   "execution_count": 96,
   "metadata": {},
   "outputs": [],
   "source": [
    "def agree_init(obj):\n",
    "    obj.N = p\n",
    "    obj.g = 2\n",
    "    obj.k = 3\n",
    "    obj.I = b'me@there.com'\n",
    "    obj.P = b'challenge36'\n",
    "\n",
    "\n",
    "class S_:\n",
    "    \n",
    "    def __init__(self):\n",
    "        agree_init(self)\n",
    "        self.salt = random_bytes(16)\n",
    "        xH = sha256(self.salt + self.P)\n",
    "        x = int.from_bytes(xH, byteorder='big')\n",
    "        self.v = modexp(g, x, self.N)\n",
    "        \n",
    "    def receive_params(self, params):\n",
    "        I, self.A = params\n",
    "        assert I == self.I\n",
    "        \n",
    "    def send_params(self):\n",
    "        self.b = random.randint(0, self.N-1)\n",
    "        self.B = self.k*self.v + modexp(self.g, self.b, self.N)\n",
    "        return (self.salt, self.B)\n",
    "        \n",
    "    def receive_mac(self, mac):\n",
    "        uH = sha256(self.A.to_bytes(256, 'big') + self.B.to_bytes(256, 'big'))\n",
    "        u = int.from_bytes(uH, byteorder='big')\n",
    "        self.S = modexp(self.A * modexp(self.v, u, self.N), self.b, self.N)\n",
    "        self.K = sha256(self.S.to_bytes(256, 'big'))\n",
    "        \n",
    "        self.match = mac == hmac_sha256(self.K, self.salt)\n",
    "            \n",
    "    def send_confirm(self):\n",
    "        return \"Auth OK\" if self.match else \"Auth Fail\"\n",
    "\n",
    "    \n",
    "class C_:\n",
    "    \n",
    "    def __init__(self):\n",
    "        agree_init(self)\n",
    "        \n",
    "    def send_params(self, my_A=None):\n",
    "        self.a = random.randint(0, self.N-1)\n",
    "        self.A = modexp(g, self.a, self.N)\n",
    "        return (self.I, self.A if my_A is None else my_A)\n",
    "    \n",
    "    def receive_params(self, params):\n",
    "        self.salt, self.B = params\n",
    "        \n",
    "    def send_mac(self, my_mac=None):\n",
    "        if my_mac is not None:\n",
    "            return my_mac\n",
    "        uH = sha256(self.A.to_bytes(256, 'big') + self.B.to_bytes(256, 'big'))\n",
    "        u = int.from_bytes(uH, byteorder='big')\n",
    "        xH = sha256(self.salt + self.P)\n",
    "        x = int.from_bytes(xH, byteorder='big')\n",
    "        self.S = modexp((self.B - self.k * modexp(self.g, x, self.N)), self.a + u*x, self.N)\n",
    "        self.K = sha256(self.S.to_bytes(256, 'big'))\n",
    "        \n",
    "        return hmac_sha256(self.K, self.salt)\n",
    "    \n",
    "    def receive_confirm(self, msg):\n",
    "        print(msg)"
   ]
  },
  {
   "cell_type": "code",
   "execution_count": 97,
   "metadata": {},
   "outputs": [
    {
     "name": "stdout",
     "output_type": "stream",
     "text": [
      "Auth OK\n"
     ]
    }
   ],
   "source": [
    "S = S_()\n",
    "C = C_()\n",
    "\n",
    "# C->S\n",
    "S.receive_params(C.send_params())\n",
    "# S->C\n",
    "C.receive_params(S.send_params())\n",
    "# C->S\n",
    "S.receive_mac(C.send_mac())\n",
    "# S->C\n",
    "C.receive_confirm(S.send_confirm())"
   ]
  },
  {
   "cell_type": "markdown",
   "metadata": {},
   "source": [
    "### Challenge 37"
   ]
  },
  {
   "cell_type": "code",
   "execution_count": 98,
   "metadata": {},
   "outputs": [
    {
     "name": "stdout",
     "output_type": "stream",
     "text": [
      "Auth OK\n",
      "Auth OK\n",
      "Auth OK\n"
     ]
    }
   ],
   "source": [
    "S = S_()\n",
    "C = C_()\n",
    "\n",
    "for my_A in [0, C.N, 2*C.N]:\n",
    "    # C->S\n",
    "    S.receive_params(C.send_params(my_A))\n",
    "    # S->C\n",
    "    C.receive_params(S.send_params())\n",
    "    # C->S\n",
    "    my_K = sha256((0).to_bytes(256, 'big'))\n",
    "    S.receive_mac(C.send_mac(my_mac=hmac_sha256(my_K, C.salt)))\n",
    "    # S->C\n",
    "    C.receive_confirm(S.send_confirm())"
   ]
  },
  {
   "cell_type": "markdown",
   "metadata": {},
   "source": [
    "### Challenge 38"
   ]
  },
  {
   "cell_type": "markdown",
   "metadata": {},
   "source": [
    "I will not implement the client-server model here because the idea is simple. The attacker generates his own key $b$ and sends to C the original salt and $u$ plus $B=g^b$ to C."
   ]
  },
  {
   "cell_type": "code",
   "execution_count": 28,
   "metadata": {},
   "outputs": [],
   "source": [
    "N = p\n",
    "# S->M and M->C\n",
    "salt = random_bytes(16)\n",
    "u = int.from_bytes(random_bytes(16), 'big')\n",
    "# M->C\n",
    "b = random.randint(0, N-1)\n",
    "B = modexp(g, b, N)"
   ]
  },
  {
   "cell_type": "markdown",
   "metadata": {},
   "source": [
    "Then he receives the MAC from C..."
   ]
  },
  {
   "cell_type": "code",
   "execution_count": 47,
   "metadata": {},
   "outputs": [],
   "source": [
    "# C's private computations\n",
    "password = b'Aaron'\n",
    "xH = sha256(salt + password)\n",
    "x = int.from_bytes(xH, byteorder='big')\n",
    "S = modexp(B, a + u*x, N)\n",
    "K = sha256(S.to_bytes(256, 'big'))\n",
    "\n",
    "# C->M\n",
    "mac = hmac_sha256(K, salt)"
   ]
  },
  {
   "cell_type": "markdown",
   "metadata": {},
   "source": [
    "...and performs an (awfully slow and wishful) dictionary attack:"
   ]
  },
  {
   "cell_type": "code",
   "execution_count": 50,
   "metadata": {},
   "outputs": [
    {
     "name": "stdout",
     "output_type": "stream",
     "text": [
      "Aaron\n"
     ]
    }
   ],
   "source": [
    "for word in open('/usr/share/dict/words'):\n",
    "    xH = sha256(salt + bytes(word.rstrip(), 'ascii'))\n",
    "    x = int.from_bytes(xH, byteorder='big')\n",
    "    S = modexp(B, a + u*x, N)\n",
    "    K = sha256(S.to_bytes(256, 'big'))\n",
    "    if hmac_sha256(K, salt) == mac:\n",
    "        print(word.rstrip())\n",
    "        break"
   ]
  },
  {
   "cell_type": "markdown",
   "metadata": {},
   "source": [
    "### Challenge 39"
   ]
  },
  {
   "cell_type": "code",
   "execution_count": 98,
   "metadata": {},
   "outputs": [],
   "source": [
    "from Crypto.Util.number import getPrime"
   ]
  },
  {
   "cell_type": "code",
   "execution_count": 298,
   "metadata": {},
   "outputs": [],
   "source": [
    "def egcd(m, n):\n",
    "    if m == 0:\n",
    "        return (n, 0, 1)\n",
    "    else:\n",
    "        g, x, y = egcd(n % m, m)\n",
    "        return (g, y - (n//m) * x, x)\n",
    "    \n",
    "def invmod(x, n):\n",
    "    g, x, _ = egcd(x, n)\n",
    "    if g == 1:\n",
    "        return x % n\n",
    "    else: raise Exception('{} and {} are not rel. prime'.format(x, n))"
   ]
  },
  {
   "cell_type": "code",
   "execution_count": 316,
   "metadata": {},
   "outputs": [],
   "source": [
    "class PrivateStore:\n",
    "    d = None\n",
    "\n",
    "def init_rsa(e=None):\n",
    "    while True:\n",
    "        p = getPrime(512)\n",
    "        q = getPrime(512)\n",
    "        n = p*q\n",
    "        et = (p-1)*(q-1)\n",
    "        if e is None:\n",
    "            while e is None or egcd(e, et)[0] != 1:\n",
    "                e = random.randint(0, n-1)\n",
    "        try:\n",
    "            PrivateStore.d = invmod(e, et)\n",
    "        except:\n",
    "            continue\n",
    "        return (e, n)\n",
    "\n",
    "e, n = init_rsa(e=3);"
   ]
  },
  {
   "cell_type": "code",
   "execution_count": 317,
   "metadata": {},
   "outputs": [],
   "source": [
    "def rsa_encrypt(m, e, n):\n",
    "    return modexp(m, e, n)\n",
    "\n",
    "def rsa_decrypt(c, d, n):\n",
    "    return modexp(c, d, n)"
   ]
  },
  {
   "cell_type": "code",
   "execution_count": 318,
   "metadata": {},
   "outputs": [],
   "source": [
    "assert rsa_decrypt(rsa_encrypt(42, e, n), PrivateStore.d, n) == 42"
   ]
  },
  {
   "cell_type": "code",
   "execution_count": 319,
   "metadata": {},
   "outputs": [
    {
     "data": {
      "text/plain": [
       "b'\\x00\\x00\\x00\\x00\\x00\\x00\\x00\\x00attack at dawn!attack at dawn!attack at dawn!attack at dawn!attack at dawn!attack at dawn!attack at dawn!attack at dawn!'"
      ]
     },
     "execution_count": 319,
     "metadata": {},
     "output_type": "execute_result"
    }
   ],
   "source": [
    "msg = \"attack at dawn!\" * 8  # make sure message is long enough; otherwise (padless) encryption does nothing!\n",
    "msg = int.from_bytes(msg.encode('utf-8'), 'big')\n",
    "rsa_decrypt(rsa_encrypt(msg, e, n), PrivateStore.d, n).to_bytes(128, 'big')"
   ]
  },
  {
   "cell_type": "markdown",
   "metadata": {},
   "source": [
    "### Challenge 40"
   ]
  },
  {
   "cell_type": "code",
   "execution_count": 320,
   "metadata": {},
   "outputs": [],
   "source": [
    "def cube_root(x):\n",
    "    lo = 0\n",
    "    hi = x\n",
    "    while True:\n",
    "        if lo**3 == x: return lo\n",
    "        if hi**3 == x: return hi\n",
    "        if ((lo + hi) // 2) ** 3 < x:\n",
    "            lo = (lo + hi) // 2\n",
    "        else:\n",
    "            hi = (lo + hi) // 2"
   ]
  },
  {
   "cell_type": "code",
   "execution_count": 321,
   "metadata": {},
   "outputs": [],
   "source": [
    "n = [0]*3\n",
    "c = [0]*3\n",
    "for i in range(3):\n",
    "    _, n[i] = init_rsa(e=3)\n",
    "    c[i] = rsa_encrypt(msg, 3, n[i])"
   ]
  },
  {
   "cell_type": "code",
   "execution_count": 322,
   "metadata": {},
   "outputs": [
    {
     "data": {
      "text/plain": [
       "b'\\x00\\x00\\x00\\x00\\x00\\x00\\x00\\x00attack at dawn!attack at dawn!attack at dawn!attack at dawn!attack at dawn!attack at dawn!attack at dawn!attack at dawn!'"
      ]
     },
     "execution_count": 322,
     "metadata": {},
     "output_type": "execute_result"
    }
   ],
   "source": [
    "ms = [0]*3\n",
    "ms[0] = n[1] * n[2]\n",
    "ms[1] = n[2] * n[0]\n",
    "ms[2] = n[0] * n[1]\n",
    "N = n[0] * n[1] * n[2]\n",
    "\n",
    "res = sum([c[i] * ms[i] * invmod(ms[i], n[i]) for i in range(3)]) % N\n",
    "cube_root(res).to_bytes(128, 'big')"
   ]
  },
  {
   "cell_type": "code",
   "execution_count": null,
   "metadata": {},
   "outputs": [],
   "source": []
  }
 ],
 "metadata": {
  "kernelspec": {
   "display_name": "Python 3",
   "language": "python",
   "name": "python3"
  }
 },
 "nbformat": 4,
 "nbformat_minor": 2
}
