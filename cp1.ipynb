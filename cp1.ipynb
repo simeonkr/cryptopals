{
 "cells": [
  {
   "cell_type": "code",
   "execution_count": 1,
   "metadata": {},
   "outputs": [],
   "source": [
    "from base64 import b64encode, b64decode\n",
    "from binascii import hexlify\n",
    "import numpy as np\n",
    "import matplotlib.pyplot as plt\n",
    "from collections import Counter\n",
    "from itertools import combinations"
   ]
  },
  {
   "cell_type": "markdown",
   "metadata": {},
   "source": [
    "### Challenge 1"
   ]
  },
  {
   "cell_type": "code",
   "execution_count": 2,
   "metadata": {},
   "outputs": [
    {
     "name": "stdout",
     "output_type": "stream",
     "text": [
      "b'SSdtIGtpbGxpbmcgeW91ciBicmFpbiBsaWtlIGEgcG9pc29ub3VzIG11c2hyb29t'\n"
     ]
    }
   ],
   "source": [
    "x = \"49276d206b696c6c696e6720796f757220627261696e206c696b65206120706f69736f6e6f7573206d757368726f6f6d\"\n",
    "hex = bytes.fromhex(x)\n",
    "print(b64encode(hex))"
   ]
  },
  {
   "cell_type": "markdown",
   "metadata": {},
   "source": [
    "### Challenge 2"
   ]
  },
  {
   "cell_type": "code",
   "execution_count": 3,
   "metadata": {},
   "outputs": [],
   "source": [
    "def xor(a, b):\n",
    "    return bytes([x^y for (x, y) in zip(a,b)])"
   ]
  },
  {
   "cell_type": "code",
   "execution_count": 4,
   "metadata": {},
   "outputs": [
    {
     "name": "stdout",
     "output_type": "stream",
     "text": [
      "b'746865206b696420646f6e277420706c6179'\n"
     ]
    }
   ],
   "source": [
    "x = \"1c0111001f010100061a024b53535009181c\"\n",
    "y = \"686974207468652062756c6c277320657965\"\n",
    "\n",
    "x = bytes.fromhex(x)\n",
    "y = bytes.fromhex(y)\n",
    "\n",
    "print(hexlify(xor(x,y)))"
   ]
  },
  {
   "cell_type": "markdown",
   "metadata": {},
   "source": [
    "### Challenge 3"
   ]
  },
  {
   "cell_type": "code",
   "execution_count": 5,
   "metadata": {},
   "outputs": [],
   "source": [
    "def counter_hist(expected_counts, act_counts):\n",
    "    labels, vals1 = zip(*expected_counts.most_common())\n",
    "    labels += ('\\\\x',)\n",
    "    vals1 += (0, )\n",
    "    vals1 = [val / sum(vals1) for val in vals1]\n",
    "    vals2 = [act_counts[label] for label in labels[:-1]]\n",
    "    vals2 += (sum([act_counts[label] for label in act_counts.keys() if label not in labels]), )\n",
    "    vals2 = [val / sum(vals2) for val in vals2]\n",
    "    plt.xticks(np.arange(len(labels)), labels)\n",
    "    plt.bar(np.arange(len(labels)), vals1, align='center')\n",
    "    plt.bar(np.arange(len(labels)), vals2, color='g', width=0.5, align='center')\n",
    "    plt.show()"
   ]
  },
  {
   "cell_type": "code",
   "execution_count": 6,
   "metadata": {},
   "outputs": [],
   "source": [
    "freq = {' ': 20, \n",
    "        'e': 12.70, \n",
    "        't': 9.06, \n",
    "        'a': 8.17, \n",
    "        'o': 7.51, \n",
    "        'i': 6.97, \n",
    "        'n': 6.75, \n",
    "        's': 6.33, \n",
    "        'h': 6.09, \n",
    "        'r': 5.99, \n",
    "        'd': 4.25, \n",
    "        'l': 4.03, \n",
    "        'c': 2.78, \n",
    "        'u': 2.76, \n",
    "        'm': 2.41, \n",
    "        'w': 2.36, \n",
    "        'f': 2.23, \n",
    "        'g': 2.02, \n",
    "        'y': 1.97, \n",
    "        'p': 1.93, \n",
    "        'b': 1.29, \n",
    "        'v': 0.98, \n",
    "        'k': 0.77, \n",
    "        'j': 0.15, \n",
    "        'x': 0.15, \n",
    "        'q': 0.10, \n",
    "        'z': 0.07}\n",
    "freq = Counter(freq)\n",
    "\n",
    "\n",
    "def get_score(y):\n",
    "    return sum([(0 if chr(b).lower() not in freq else freq[chr(b).lower()]) for b in y])\n",
    "\n",
    "\n",
    "def plot_msg_hist(y):\n",
    "    ltrs = Counter()\n",
    "    for i in range(len(y)):\n",
    "        ltrs[chr(y[i])] += 1\n",
    "    counter_hist(freq, ltrs)\n",
    "        \n",
    "\n",
    "def best_msg_score(x):\n",
    "    best_score = -float('inf')\n",
    "    for c in range(256):\n",
    "        y = bytes([b ^ c for b in x])\n",
    "        score = get_score(y)\n",
    "        if score >= best_score:\n",
    "            best_letter = chr(c)\n",
    "            best_score = score\n",
    "            msg = y\n",
    "    return best_letter, best_score, msg"
   ]
  },
  {
   "cell_type": "code",
   "execution_count": 7,
   "metadata": {},
   "outputs": [
    {
     "data": {
      "image/png": "[encoded data removed]",
      "text/plain": [
       "<matplotlib.figure.Figure at 0x7fe963654128>"
      ]
     },
     "metadata": {},
     "output_type": "display_data"
    },
    {
     "name": "stdout",
     "output_type": "stream",
     "text": [
      "X b\"Cooking MC's like a pound of bacon\"\n"
     ]
    }
   ],
   "source": [
    "x = \"1b37373331363f78151b7f2b783431333d78397828372d363c78373e783a393b3736\"\n",
    "x = bytes.fromhex(x)\n",
    "\n",
    "best_letter, _, msg = best_msg_score(x)\n",
    "plot_msg_hist(msg)\n",
    "print(best_letter, msg)"
   ]
  },
  {
   "cell_type": "markdown",
   "metadata": {},
   "source": [
    "### Challenge 4"
   ]
  },
  {
   "cell_type": "code",
   "execution_count": 8,
   "metadata": {},
   "outputs": [
    {
     "name": "stdout",
     "output_type": "stream",
     "text": [
      "b'Now that the party is jumping\\n'\n"
     ]
    }
   ],
   "source": [
    "with open('4.txt', 'r') as file:\n",
    "    lines = file.read().splitlines()\n",
    "    \n",
    "best_score = -float('inf')\n",
    "for line in lines:\n",
    "    line = bytes.fromhex(line)\n",
    "    letter, score, y = best_msg_score(line)\n",
    "    if score >= best_score:\n",
    "        best_score = score\n",
    "        msg = y\n",
    "print(msg)"
   ]
  },
  {
   "cell_type": "markdown",
   "metadata": {},
   "source": [
    "### Challenge 5"
   ]
  },
  {
   "cell_type": "code",
   "execution_count": 9,
   "metadata": {},
   "outputs": [],
   "source": [
    "def key_xor(msg, key):\n",
    "    stream = key * (len(msg) // len(key)) + key[:(len(msg) % len(key))]\n",
    "    return xor(msg, stream)"
   ]
  },
  {
   "cell_type": "code",
   "execution_count": 10,
   "metadata": {},
   "outputs": [
    {
     "name": "stdout",
     "output_type": "stream",
     "text": [
      "b'0b3637272a2b2e63622c2e69692a23693a2a3c6324202d623d63343c2a26226324272765272a282b2f20430a652e2c652a3124333a653e2b2027630c692b20283165286326302e27282f'\n"
     ]
    }
   ],
   "source": [
    "msg = \"Burning 'em, if you ain't quick and nimble\\nI go crazy when I hear a cymbal\"\n",
    "\n",
    "key = \"ICE\"\n",
    "\n",
    "msg = msg.encode('ascii')\n",
    "key = key.encode('ascii')\n",
    "\n",
    "print(hexlify(key_xor(msg, key)))"
   ]
  },
  {
   "cell_type": "markdown",
   "metadata": {},
   "source": [
    "### Challenge 6"
   ]
  },
  {
   "cell_type": "code",
   "execution_count": 11,
   "metadata": {},
   "outputs": [],
   "source": [
    "def num_bits(x):\n",
    "    x = int(x)\n",
    "    count = 0\n",
    "    while x:\n",
    "        count += (x & 1)\n",
    "        x >>= 1\n",
    "    return count\n",
    "    \n",
    "\n",
    "def dist(b1, b2):\n",
    "    return sum([num_bits(x^y) for x, y in zip(b1, b2)])"
   ]
  },
  {
   "cell_type": "code",
   "execution_count": 12,
   "metadata": {},
   "outputs": [
    {
     "data": {
      "text/plain": [
       "37"
      ]
     },
     "execution_count": 12,
     "metadata": {},
     "output_type": "execute_result"
    }
   ],
   "source": [
    "dist(bytes('this is a test', 'ascii'), bytes('wokka wokka!!!', 'ascii'))"
   ]
  },
  {
   "cell_type": "code",
   "execution_count": 13,
   "metadata": {},
   "outputs": [
    {
     "name": "stdout",
     "output_type": "stream",
     "text": [
      "[29 15 38 13 11 25 40  9 20 16 33 14 22 36 12  5 17 18 31 26 32 39 30  7\n",
      " 34  8 10  2 21 37  3 35 23 27 28 19 24  6  4]\n"
     ]
    },
    {
     "data": {
      "image/png": "[encoded data removed]",
      "text/plain": [
       "<matplotlib.figure.Figure at 0x7fe988852978>"
      ]
     },
     "metadata": {},
     "output_type": "display_data"
    }
   ],
   "source": [
    "with open('6.txt', 'r') as file:\n",
    "    data = b64decode(''.join(file.readlines()))\n",
    "\n",
    "s_vals = []\n",
    "for keysize in range(2, 41):\n",
    "    chunks = int(len(data)/40)\n",
    "    s = 0\n",
    "    for i in range(chunks):\n",
    "        s += dist(data[i*keysize:(i+1)*keysize], data[(i+1)*keysize:(i+2)*keysize])\n",
    "    s /= (chunks * keysize)\n",
    "    s_vals.append(s)\n",
    "        \n",
    "plt.xlabel('key size')\n",
    "plt.plot(range(2, 41), s_vals)\n",
    "print(np.argsort(s_vals) + 2)"
   ]
  },
  {
   "cell_type": "code",
   "execution_count": 14,
   "metadata": {},
   "outputs": [],
   "source": [
    "KEYSIZE = 29\n",
    "\n",
    "blocks = []\n",
    "for k in range(KEYSIZE):\n",
    "    blocks.append([])\n",
    "    for i in range(k, len(data), KEYSIZE):\n",
    "        blocks[k].append(data[i])\n",
    "    blocks[k] = bytes(blocks[k])\n",
    "        \n",
    "letters = []\n",
    "for block in blocks:\n",
    "    letter, _, _ = best_msg_score(block)\n",
    "    letters.append(letter)\n",
    "    \n",
    "key = bytes([ord(letter) for letter in letters])"
   ]
  },
  {
   "cell_type": "code",
   "execution_count": 15,
   "metadata": {},
   "outputs": [
    {
     "name": "stdout",
     "output_type": "stream",
     "text": [
      "b'Terminator X: Bring the noise'\n"
     ]
    },
    {
     "data": {
      "image/png": "[encoded data removed]",
      "text/plain": [
       "<matplotlib.figure.Figure at 0x7fe96362dc88>"
      ]
     },
     "metadata": {},
     "output_type": "display_data"
    },
    {
     "name": "stdout",
     "output_type": "stream",
     "text": [
      "I'm back and I'm ringin' the bell \n",
      "A rockin' on the mike while the fly girls yell \n",
      "In ecstasy in the back of me \n",
      "Well that's my DJ Deshay cuttin' all them Z's \n",
      "Hittin' hard and the girlies goin' crazy \n",
      "Vanilla's on the mike, man I'm not lazy. \n",
      "\n",
      "I'm lettin' my drug kick in \n",
      "It controls my mouth and I begin \n",
      "To just let it flow, let my concepts go \n",
      "My posse's to the side yellin', Go Vanilla Go! \n",
      "\n",
      "Smooth 'cause that's the way I will be \n",
      "And if you don't give a damn, then \n",
      "Why you starin' at me \n",
      "So get off 'cause I control the stage \n",
      "There's no dissin' allowed \n",
      "I'm in my own phase \n",
      "The girlies sa y they love me and that is ok \n",
      "And I can dance better than any kid n' play \n",
      "\n",
      "Stage 2 -- Yea the one ya' wanna listen to \n",
      "It's off my head so let the beat play through \n",
      "So I can funk it up and make it sound good \n",
      "1-2-3 Yo -- Knock on some wood \n",
      "For good luck, I like my rhymes atrocious \n",
      "Supercalafragilisticexpialidocious \n",
      "I'm an effect and that you can bet \n",
      "I can take a fly girl and make her wet. \n",
      "\n",
      "I'm like Samson -- Samson to Delilah \n",
      "There's no denyin', You can try to hang \n",
      "But you'll keep tryin' to get my style \n",
      "Over and over, practice makes perfect \n",
      "But not if you're a loafer. \n",
      "\n",
      "You'll get nowhere, no place, no time, no girls \n",
      "Soon -- Oh my God, homebody, you probably eat \n",
      "Spaghetti with a spoon! Come on and say it! \n",
      "\n",
      "VIP. Vanilla Ice yep, yep, I'm comin' hard like a rhino \n",
      "Intoxicating so you stagger like a wino \n",
      "So punks stop trying and girl stop cryin' \n",
      "Vanilla Ice is sellin' and you people are buyin' \n",
      "'Cause why the freaks are jockin' like Crazy Glue \n",
      "Movin' and groovin' trying to sing along \n",
      "All through the ghetto groovin' this here song \n",
      "Now you're amazed by the VIP posse. \n",
      "\n",
      "Steppin' so hard like a German Nazi \n",
      "Startled by the bases hittin' ground \n",
      "There's no trippin' on mine, I'm just gettin' down \n",
      "Sparkamatic, I'm hangin' tight like a fanatic \n",
      "You trapped me once and I thought that \n",
      "You might have it \n",
      "So step down and lend me your ear \n",
      "'89 in my time! You, '90 is my year. \n",
      "\n",
      "You're weakenin' fast, YO! and I can tell it \n",
      "Your body's gettin' hot, so, so I can smell it \n",
      "So don't be mad and don't be sad \n",
      "'Cause the lyrics belong to ICE, You can call me Dad \n",
      "You're pitchin' a fit, so step back and endure \n",
      "Let the witch doctor, Ice, do the dance to cure \n",
      "So come up close and don't be square \n",
      "You wanna battle me -- Anytime, anywhere \n",
      "\n",
      "You thought that I was weak, Boy, you're dead wrong \n",
      "So come on, everybody and sing this song \n",
      "\n",
      "Say -- Play that funky music Say, go white boy, go white boy go \n",
      "play that funky music Go white boy, go white boy, go \n",
      "Lay down and boogie and play that funky music till you die. \n",
      "\n",
      "Play that funky music Come on, Come on, let me hear \n",
      "Play that funky music white boy you say it, say it \n",
      "Play that funky music A little louder now \n",
      "Play that funky music, white boy Come on, Come on, Come on \n",
      "Play that funky music \n",
      "\n"
     ]
    }
   ],
   "source": [
    "print(key)\n",
    "msg = key_xor(data, key)\n",
    "plot_msg_hist(msg)\n",
    "print(msg.decode('ascii'))"
   ]
  },
  {
   "cell_type": "markdown",
   "metadata": {},
   "source": [
    "### Challenge 7"
   ]
  },
  {
   "cell_type": "code",
   "execution_count": 16,
   "metadata": {},
   "outputs": [],
   "source": [
    "from Crypto.Cipher import AES"
   ]
  },
  {
   "cell_type": "code",
   "execution_count": 17,
   "metadata": {},
   "outputs": [
    {
     "name": "stdout",
     "output_type": "stream",
     "text": [
      "I'm back and I'm ringin' the bell \n",
      "A rockin' on the mike while the fly girls yell \n",
      "In ecstasy in the back of me \n",
      "Well that's my DJ Deshay cuttin' all them Z's \n",
      "Hittin' hard and the girlies goin' crazy \n",
      "Vanilla's on the mike, man I'm not lazy. \n",
      "\n",
      "I'm lettin' my drug kick in \n",
      "It controls my mouth and I begin \n",
      "To just let it flow, let my concepts go \n",
      "My posse's to the side yellin', Go Vanilla Go! \n",
      "\n",
      "Smooth 'cause that's the way I will be \n",
      "And if you don't give a damn, then \n",
      "Why you starin' at me \n",
      "So get off 'cause I control the stage \n",
      "There's no dissin' allowed \n",
      "I'm in my own phase \n",
      "The girlies sa y they love me and that is ok \n",
      "And I can dance better than any kid n' play \n",
      "\n",
      "Stage 2 -- Yea the one ya' wanna listen to \n",
      "It's off my head so let the beat play through \n",
      "So I can funk it up and make it sound good \n",
      "1-2-3 Yo -- Knock on some wood \n",
      "For good luck, I like my rhymes atrocious \n",
      "Supercalafragilisticexpialidocious \n",
      "I'm an effect and that you can bet \n",
      "I can take a fly girl and make her wet. \n",
      "\n",
      "I'm like Samson -- Samson to Delilah \n",
      "There's no denyin', You can try to hang \n",
      "But you'll keep tryin' to get my style \n",
      "Over and over, practice makes perfect \n",
      "But not if you're a loafer. \n",
      "\n",
      "You'll get nowhere, no place, no time, no girls \n",
      "Soon -- Oh my God, homebody, you probably eat \n",
      "Spaghetti with a spoon! Come on and say it! \n",
      "\n",
      "VIP. Vanilla Ice yep, yep, I'm comin' hard like a rhino \n",
      "Intoxicating so you stagger like a wino \n",
      "So punks stop trying and girl stop cryin' \n",
      "Vanilla Ice is sellin' and you people are buyin' \n",
      "'Cause why the freaks are jockin' like Crazy Glue \n",
      "Movin' and groovin' trying to sing along \n",
      "All through the ghetto groovin' this here song \n",
      "Now you're amazed by the VIP posse. \n",
      "\n",
      "Steppin' so hard like a German Nazi \n",
      "Startled by the bases hittin' ground \n",
      "There's no trippin' on mine, I'm just gettin' down \n",
      "Sparkamatic, I'm hangin' tight like a fanatic \n",
      "You trapped me once and I thought that \n",
      "You might have it \n",
      "So step down and lend me your ear \n",
      "'89 in my time! You, '90 is my year. \n",
      "\n",
      "You're weakenin' fast, YO! and I can tell it \n",
      "Your body's gettin' hot, so, so I can smell it \n",
      "So don't be mad and don't be sad \n",
      "'Cause the lyrics belong to ICE, You can call me Dad \n",
      "You're pitchin' a fit, so step back and endure \n",
      "Let the witch doctor, Ice, do the dance to cure \n",
      "So come up close and don't be square \n",
      "You wanna battle me -- Anytime, anywhere \n",
      "\n",
      "You thought that I was weak, Boy, you're dead wrong \n",
      "So come on, everybody and sing this song \n",
      "\n",
      "Say -- Play that funky music Say, go white boy, go white boy go \n",
      "play that funky music Go white boy, go white boy, go \n",
      "Lay down and boogie and play that funky music till you die. \n",
      "\n",
      "Play that funky music Come on, Come on, let me hear \n",
      "Play that funky music white boy you say it, say it \n",
      "Play that funky music A little louder now \n",
      "Play that funky music, white boy Come on, Come on, Come on \n",
      "Play that funky music \n",
      "\u0004\u0004\u0004\u0004\n"
     ]
    }
   ],
   "source": [
    "with open('7.txt', 'r') as file:\n",
    "    data = b64decode(''.join(file.readlines()))\n",
    "\n",
    "key = b\"YELLOW SUBMARINE\"\n",
    "\n",
    "cipher = AES.new(key, AES.MODE_ECB)\n",
    "msg = cipher.decrypt(data)\n",
    "print(msg.decode('ascii'))"
   ]
  },
  {
   "cell_type": "markdown",
   "metadata": {},
   "source": [
    "### Challenge 8"
   ]
  },
  {
   "cell_type": "code",
   "execution_count": 18,
   "metadata": {},
   "outputs": [
    {
     "name": "stdout",
     "output_type": "stream",
     "text": [
      "132 2 5\n",
      "132 2 8\n",
      "132 2 11\n",
      "132 5 8\n",
      "132 5 11\n",
      "132 8 11\n"
     ]
    }
   ],
   "source": [
    "with open('8.txt', 'r') as file:\n",
    "    lines = file.read().splitlines()\n",
    "    \n",
    "for line_no in range(len(lines)):\n",
    "    line = b64decode(lines[line_no])\n",
    "    blocks = len(line) // 16\n",
    "    for i, j in combinations(range(blocks), 2):\n",
    "        x = xor(line[i*16:(i+1)*16], line[j*16:(j+1)*16])\n",
    "        same_bits = 16-np.count_nonzero(bytearray(x))\n",
    "        if same_bits == 16:\n",
    "            print(line_no, i, j)"
   ]
  },
  {
   "cell_type": "code",
   "execution_count": 19,
   "metadata": {},
   "outputs": [
    {
     "name": "stdout",
     "output_type": "stream",
     "text": [
      "d880619740a8a19b\n",
      "7840a8a31c810a3d\n",
      "08649af70dc06f4f\n",
      "d5d2d69c744cd283\n",
      "e2dd052f6b641dbf\n",
      "9d11b0348542bb57\n",
      "08649af70dc06f4f\n",
      "d5d2d69c744cd283\n",
      "9475c9dfdbc1d465\n",
      "97949d9c7e82bf5a\n",
      "08649af70dc06f4f\n",
      "d5d2d69c744cd283\n",
      "97a93eab8d6aecd5\n",
      "66489154789a6b03\n",
      "08649af70dc06f4f\n",
      "d5d2d69c744cd283\n",
      "d403180c98c8f6db\n",
      "1f2a3f9c4040deb0\n",
      "ab51b29933f2c123\n",
      "c58386b06fba186a\n"
     ]
    }
   ],
   "source": [
    "for i in range(len(lines[132]) // 16):\n",
    "    print(lines[132][i*16:(i+1)*16])"
   ]
  },
  {
   "cell_type": "code",
   "execution_count": null,
   "metadata": {},
   "outputs": [],
   "source": []
  }
 ],
 "metadata": {
  "kernelspec": {
   "display_name": "Python 3",
   "language": "python",
   "name": "python3"
  },
  "language_info": {
   "codemirror_mode": {
    "name": "ipython",
    "version": 3
   },
   "file_extension": ".py",
   "mimetype": "text/x-python",
   "name": "python",
   "nbconvert_exporter": "python",
   "pygments_lexer": "ipython3",
   "version": "3.6.7"
  }
 },
 "nbformat": 4,
 "nbformat_minor": 2
}
