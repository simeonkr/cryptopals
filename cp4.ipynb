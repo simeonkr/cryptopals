{
 "cells": [
  {
   "cell_type": "code",
   "execution_count": 399,
   "metadata": {},
   "outputs": [],
   "source": [
    "from base64 import b64encode, b64decode\n",
    "from Crypto.Cipher import AES\n",
    "import math, random"
   ]
  },
  {
   "cell_type": "code",
   "execution_count": 400,
   "metadata": {},
   "outputs": [],
   "source": [
    "def xor(*args):\n",
    "    assert len(args) >= 2 and min(map(len, args)) == max(map(len, args))\n",
    "    if len(args) == 2:\n",
    "        a,b = args\n",
    "        return bytes([x^y for (x, y) in zip(a,b)])\n",
    "    else:\n",
    "        return xor(args[0], xor(*args[1:]))\n",
    "    \n",
    "def key_xor(msg, key):\n",
    "    stream = key * (len(msg) // len(key)) + key[:(len(msg) % len(key))]\n",
    "    return xor(msg, stream)\n",
    "\n",
    "def pad(msg, block_size):\n",
    "    extra_bytes = block_size - len(msg) % block_size \n",
    "    return msg + bytes([extra_bytes] * extra_bytes)\n",
    "\n",
    "class PaddingException(Exception):\n",
    "    pass\n",
    "\n",
    "def unpad(msg):\n",
    "    if not msg or not 0 < msg[-1] <= 16 or msg[-msg[-1]:] != bytes([msg[-1]] * msg[-1]):\n",
    "        raise PaddingException\n",
    "    return msg[:-msg[-1]]\n",
    "\n",
    "def random_bytes(len):\n",
    "    return bytes([random.randint(0,255) for _ in range(len)])"
   ]
  },
  {
   "cell_type": "code",
   "execution_count": 56,
   "metadata": {},
   "outputs": [],
   "source": [
    "def ctr_keystream(nonce, count, cipher):\n",
    "    return cipher.encrypt(nonce + count.to_bytes(8, byteorder='little'))\n",
    "\n",
    "def ctr(msg, nonce, cipher):\n",
    "    out = b''\n",
    "    count = 0\n",
    "    for i in range(len(msg) // 16):\n",
    "        out += xor(ctr_keystream(nonce, count, cipher), msg[i*16:(i+1)*16])\n",
    "        count += 1\n",
    "    out += xor(ctr_keystream(nonce, count, cipher)[:len(msg)%16], msg[len(msg)-len(msg)%16:])\n",
    "    return out"
   ]
  },
  {
   "cell_type": "markdown",
   "metadata": {},
   "source": [
    "### Challenge 25"
   ]
  },
  {
   "cell_type": "code",
   "execution_count": 57,
   "metadata": {},
   "outputs": [],
   "source": [
    "key = random_bytes(16)\n",
    "nonce = random_bytes(8)\n",
    "cipher = AES.new(key, AES.MODE_ECB)"
   ]
  },
  {
   "cell_type": "code",
   "execution_count": 58,
   "metadata": {},
   "outputs": [],
   "source": [
    "ecb_cipher = AES.new(b'YELLOW SUBMARINE', AES.MODE_ECB)\n",
    "\n",
    "with open('data/25.txt', 'r') as file:\n",
    "    ciphtxt = ctr(ecb_cipher.decrypt(b64decode(''.join(file.readlines()))), nonce, cipher)"
   ]
  },
  {
   "cell_type": "code",
   "execution_count": 49,
   "metadata": {},
   "outputs": [],
   "source": [
    "def edit(ciphtxt, key, offset, newtxt):\n",
    "    output = bytearray(ciphtxt)\n",
    "    output[offset*16:(offset+1)*16] = xor(ctr_keystream(nonce, offset, cipher), newtxt)\n",
    "    return bytes(output)"
   ]
  },
  {
   "cell_type": "code",
   "execution_count": 40,
   "metadata": {},
   "outputs": [
    {
     "name": "stdout",
     "output_type": "stream",
     "text": [
      "I'm back and I'm ringin' the bell \n",
      "A rockin' on the mike while the fly girls yell \n",
      "In ecstasy in the back of me \n",
      "Well that's my DJ Deshay cuttin' all them Z's \n",
      "Hittin' hard and the girlies goin' crazy \n",
      "Vanilla's on the mike, man I'm not lazy. \n",
      "\n",
      "I'm lettin' my drug kick in \n",
      "It controls my mouth and I begin \n",
      "To just let it flow, let my concepts go \n",
      "My posse's to the side yellin', Go Vanilla Go! \n",
      "\n",
      "Smooth 'cause that's the way I will be \n",
      "And if you don't give a damn, then \n",
      "Why you starin' at me \n",
      "So get off 'cause I control the stage \n",
      "There's no dissin' allowed \n",
      "I'm in my own phase \n",
      "The girlies sa y they love me and that is ok \n",
      "And I can dance better than any kid n' play \n",
      "\n",
      "Stage 2 -- Yea the one ya' wanna listen to \n",
      "It's off my head so let the beat play through \n",
      "So I can funk it up and make it sound good \n",
      "1-2-3 Yo -- Knock on some wood \n",
      "For good luck, I like my rhymes atrocious \n",
      "Supercalafragilisticexpialidocious \n",
      "I'm an effect and that you can bet \n",
      "I can take a fly girl and make her wet. \n",
      "\n",
      "I'm like Samson -- Samson to Delilah \n",
      "There's no denyin', You can try to hang \n",
      "But you'll keep tryin' to get my style \n",
      "Over and over, practice makes perfect \n",
      "But not if you're a loafer. \n",
      "\n",
      "You'll get nowhere, no place, no time, no girls \n",
      "Soon -- Oh my God, homebody, you probably eat \n",
      "Spaghetti with a spoon! Come on and say it! \n",
      "\n",
      "VIP. Vanilla Ice yep, yep, I'm comin' hard like a rhino \n",
      "Intoxicating so you stagger like a wino \n",
      "So punks stop trying and girl stop cryin' \n",
      "Vanilla Ice is sellin' and you people are buyin' \n",
      "'Cause why the freaks are jockin' like Crazy Glue \n",
      "Movin' and groovin' trying to sing along \n",
      "All through the ghetto groovin' this here song \n",
      "Now you're amazed by the VIP posse. \n",
      "\n",
      "Steppin' so hard like a German Nazi \n",
      "Startled by the bases hittin' ground \n",
      "There's no trippin' on mine, I'm just gettin' down \n",
      "Sparkamatic, I'm hangin' tight like a fanatic \n",
      "You trapped me once and I thought that \n",
      "You might have it \n",
      "So step down and lend me your ear \n",
      "'89 in my time! You, '90 is my year. \n",
      "\n",
      "You're weakenin' fast, YO! and I can tell it \n",
      "Your body's gettin' hot, so, so I can smell it \n",
      "So don't be mad and don't be sad \n",
      "'Cause the lyrics belong to ICE, You can call me Dad \n",
      "You're pitchin' a fit, so step back and endure \n",
      "Let the witch doctor, Ice, do the dance to cure \n",
      "So come up close and don't be square \n",
      "You wanna battle me -- Anytime, anywhere \n",
      "\n",
      "You thought that I was weak, Boy, you're dead wrong \n",
      "So come on, everybody and sing this song \n",
      "\n",
      "Say -- Play that funky music Say, go white boy, go white boy go \n",
      "play that funky music Go white boy, go white boy, go \n",
      "Lay down and boogie and play that funky music till you die. \n",
      "\n",
      "Play that funky music Come on, Come on, let me hear \n",
      "Play that funky music white boy you say it, say it \n",
      "Play that funky music A little louder now \n",
      "Play that funky music, white boy Come on, Come on, Come on \n",
      "Play that funky music \n",
      "\u0004\u0004\u0004\u0004\n"
     ]
    }
   ],
   "source": [
    "keystream = bytes([])\n",
    "\n",
    "for i in range(len(ciphtxt) // 16):\n",
    "    keystream += edit(ciphtxt, key, i, bytes(16))[i*16:(i+1)*16]\n",
    "    \n",
    "plaintxt = xor(keystream, ciphtxt)\n",
    "print(plaintxt.decode('ascii'))"
   ]
  },
  {
   "cell_type": "markdown",
   "metadata": {},
   "source": [
    "### Challenge 26"
   ]
  },
  {
   "cell_type": "code",
   "execution_count": 59,
   "metadata": {},
   "outputs": [],
   "source": [
    "def enc1(msg):\n",
    "    msg = msg.replace(';', '%3b').replace('=', '%3d')\n",
    "    msg = \"comment1=cooking%20MCs;userdata=\" + msg + \";comment2=%20like%20a%20pound%20of%20bacon\"\n",
    "    return ctr(msg.encode('ascii'), nonce, cipher)\n",
    "\n",
    "def dec1(ciphtxt):\n",
    "    return \";admin=true;\" in ctr(ciphtxt, nonce, cipher).decode('ascii', errors='replace')"
   ]
  },
  {
   "cell_type": "code",
   "execution_count": 60,
   "metadata": {},
   "outputs": [
    {
     "name": "stdout",
     "output_type": "stream",
     "text": [
      "comment1=cooking%20MCs;userdata=00000;admin=true;comment2=%20like%20a%20pound%20of%20bacon\n"
     ]
    },
    {
     "data": {
      "text/plain": [
       "True"
      ]
     },
     "execution_count": 60,
     "metadata": {},
     "output_type": "execute_result"
    }
   ],
   "source": [
    "ciphtxt = bytearray(enc1('00000xadminxtrue'))\n",
    "ciphtxt[32:48] = xor(ciphtxt[32:48], b'00000x00000x0000', b'00000;00000=0000')\n",
    "print(ctr(ciphtxt, nonce, cipher).decode('ascii', errors='replace'))\n",
    "dec1(bytes(ciphtxt))"
   ]
  },
  {
   "cell_type": "markdown",
   "metadata": {},
   "source": [
    "### Challenge 27"
   ]
  },
  {
   "cell_type": "code",
   "execution_count": 84,
   "metadata": {},
   "outputs": [],
   "source": [
    "def cbc_encrypt(msg, IV, cipher):\n",
    "    out = bytes([])\n",
    "    curr_block = IV[:]\n",
    "    for i in range(len(msg) // 16):\n",
    "        curr_block = xor(curr_block, msg[i*16:(i+1)*16])\n",
    "        curr_block = cipher.encrypt(curr_block)\n",
    "        out += curr_block\n",
    "    return out\n",
    "\n",
    "def cbc_decrypt(ciphtext, IV, cipher):\n",
    "    out = bytes([])\n",
    "    curr_block = IV[:]\n",
    "    for i in range(len(ciphtext) // 16):\n",
    "        dec_block = cipher.decrypt(ciphtext[i*16:(i+1)*16])\n",
    "        dec_block = xor(curr_block, dec_block)\n",
    "        out += dec_block\n",
    "        curr_block = ciphtext[i*16:(i+1)*16]\n",
    "    return out"
   ]
  },
  {
   "cell_type": "code",
   "execution_count": 151,
   "metadata": {},
   "outputs": [],
   "source": [
    "key = b'YELLOW SUBMARINE'\n",
    "IV = key\n",
    "cipher = AES.new(key, AES.MODE_ECB)\n",
    "\n",
    "def enc1(msg):\n",
    "    msg = msg.replace(';', '%3b').replace('=', '%3d')\n",
    "    msg = \"comment1=cooking%20MCs;userdata=\" + msg + \";comment2=%20like%20a%20pound%20of%20bacon\"\n",
    "    try:\n",
    "        msg.encode('ascii')\n",
    "    except UnicodeDecodeError():\n",
    "        raise Exception(msg)\n",
    "    return cbc_encrypt(msg.encode('ascii'), IV, cipher)\n",
    "\n",
    "def dec1(ciphtxt):\n",
    "    msg = cbc_decrypt(ciphtxt, IV, cipher)\n",
    "    try:\n",
    "        msg.decode('ascii')\n",
    "        return True\n",
    "    except UnicodeDecodeError:\n",
    "        raise Exception(msg.decode('ascii', 'replace'))"
   ]
  },
  {
   "cell_type": "code",
   "execution_count": 152,
   "metadata": {},
   "outputs": [
    {
     "name": "stdout",
     "output_type": "stream",
     "text": [
      "b'YELLOW SUBMARINE'\n"
     ]
    }
   ],
   "source": [
    "ciphtxt = enc1('attack at dawn, attack at dawn, attack at dawn!!')[:48]\n",
    "try: \n",
    "    dec1(ciphtxt[:16] + bytes(16) + ciphtxt[:16])\n",
    "except Exception as e:\n",
    "    pptext = str(e).encode('ascii', \"replace\")\n",
    "    rec_key = xor(pptext[:16], pptext[32:48]) \n",
    "    print(rec_key)"
   ]
  },
  {
   "cell_type": "markdown",
   "metadata": {},
   "source": [
    "### Challenge 28"
   ]
  },
  {
   "cell_type": "code",
   "execution_count": 340,
   "metadata": {},
   "outputs": [],
   "source": [
    "# based on pseudocode from https://en.wikipedia.org/wiki/SHA-1 \n",
    "\n",
    "def chunks(lst, n):\n",
    "    assert len(lst) % n == 0\n",
    "    out = []\n",
    "    for i in range(len(lst) // n):\n",
    "        out.append(lst[i*n:(i+1)*n])\n",
    "    return out\n",
    "        \n",
    "def leftrotate(x, n):\n",
    "    out = (x << n) ^ (x >> (32 - n))\n",
    "    return out\n",
    "\n",
    "def md_pad(ml, custom_len=None):\n",
    "    pad = bytes([0x80])\n",
    "    plen = (448 - 8*(ml+1) % 512) // 8\n",
    "    pad += bytes([0x00] * plen)\n",
    "    pad += (8*custom_len if custom_len else 8*ml).to_bytes(8, 'big')\n",
    "    return pad\n",
    "\n",
    "def sha1(msg, h0=0x67452301, h1=0xEFCDAB89, h2=0x98BADCFE, h3=0x10325476, h4=0xC3D2E1F0, custom_len=None):\n",
    "    msg += md_pad(len(msg), custom_len)\n",
    "    assert len(msg) % 64 == 0\n",
    "        \n",
    "    for ch in range(0, len(msg), 64):      \n",
    "        w = [int.from_bytes(b, 'big') for b in chunks(msg[ch:ch+64], 4)]\n",
    "        assert len(w) == 16\n",
    "    \n",
    "        for i in range(16, 80):\n",
    "            w.append(leftrotate(w[i-3] ^ w[i-8] ^ w[i-14] ^ w[i-16], 1))\n",
    "                        \n",
    "        a = h0\n",
    "        b = h1\n",
    "        c = h2\n",
    "        d = h3\n",
    "        e = h4\n",
    "        \n",
    "        for i in range(80):\n",
    "            if i < 19:\n",
    "                f = (b & c) | (~b & d)\n",
    "                k = 0x5A827999\n",
    "            elif i < 40:\n",
    "                f = b ^ c ^ d\n",
    "                k = 0x6ED9EBA1\n",
    "            elif i < 60:\n",
    "                f = (b & c) | (b & d) | (c & d)\n",
    "                k = 0x8F1BBCDC\n",
    "            else:\n",
    "                f = b ^ c ^ d\n",
    "                k = 0xCA62C1D6\n",
    "                \n",
    "            temp = (leftrotate(a, 5) + f + e + k + w[i]) % 2**32\n",
    "            e = d\n",
    "            d = c\n",
    "            c = leftrotate(b, 30)\n",
    "            b = a\n",
    "            a = temp\n",
    "            \n",
    "        h0 = (h0 + a) % 2**32\n",
    "        h1 = (h1 + b) % 2**32\n",
    "        h2 = (h2 + c) % 2**32\n",
    "        h3 = (h3 + d) % 2**32\n",
    "        h4 = (h4 + e) % 2**32\n",
    "                \n",
    "    return (h0 << 128) | (h1 << 96) | (h2 << 64) | (h3 << 32) | h4"
   ]
  },
  {
   "cell_type": "code",
   "execution_count": 265,
   "metadata": {},
   "outputs": [
    {
     "data": {
      "text/plain": [
       "'0f9cb28ba119e4efcaf6477d7891351bc3105fd6'"
      ]
     },
     "execution_count": 265,
     "metadata": {},
     "output_type": "execute_result"
    }
   ],
   "source": [
    "sha1(b'The quick brown fox jumps over the lazy dog').to_bytes(20, 'big').hex()"
   ]
  },
  {
   "cell_type": "code",
   "execution_count": 266,
   "metadata": {},
   "outputs": [
    {
     "data": {
      "text/plain": [
       "'aa40657ab75bc665b02dbd7563579287a9303af5'"
      ]
     },
     "execution_count": 266,
     "metadata": {},
     "output_type": "execute_result"
    }
   ],
   "source": [
    "sha1(b'The quick brown fox jumps over the hazy dog').to_bytes(20, 'big').hex()"
   ]
  },
  {
   "cell_type": "code",
   "execution_count": 267,
   "metadata": {},
   "outputs": [
    {
     "data": {
      "text/plain": [
       "True"
      ]
     },
     "execution_count": 267,
     "metadata": {},
     "output_type": "execute_result"
    }
   ],
   "source": [
    "def auth(msg, mac, key):\n",
    "    return mac == sha1(key+msg)\n",
    "    \n",
    "mac1 = sha1(b'key' + b'hello world')\n",
    "auth(b'hello world', mac1, b'key')"
   ]
  },
  {
   "cell_type": "markdown",
   "metadata": {},
   "source": [
    "### Challenge 29"
   ]
  },
  {
   "cell_type": "code",
   "execution_count": 268,
   "metadata": {},
   "outputs": [],
   "source": [
    "def recover_state(h):\n",
    "    return (h >> 128) & 0xffffffff, (h >> 96) & 0xffffffff, (h >> 64) & 0xffffffff, (h >> 32) & 0xffffffff, h & 0xffffffff"
   ]
  },
  {
   "cell_type": "code",
   "execution_count": 346,
   "metadata": {},
   "outputs": [
    {
     "name": "stdout",
     "output_type": "stream",
     "text": [
      "6 414374220315846656680590240626294512667909987564\n"
     ]
    }
   ],
   "source": [
    "key = b'banana'\n",
    "orig_msg = b'comment1=cooking%20MCs;userdata=foo;comment2=%20like%20a%20pound%20of%20bacon'\n",
    "orig_hash = sha1(key+orig_msg)\n",
    "append_str = b';admin=true'\n",
    "\n",
    "h0, h1, h2, h3, h4 = recover_state(orig_hash)\n",
    "\n",
    "for keylen in range(1, 17):\n",
    "    forged_msg = key + orig_msg + md_pad(keylen + len(orig_msg)) + append_str\n",
    "    new_hash = sha1(append_str, h0, h1, h2, h3, h4, len(forged_msg))\n",
    "    if new_hash == sha1(forged_msg):\n",
    "        print(keylen, new_hash)"
   ]
  },
  {
   "cell_type": "markdown",
   "metadata": {},
   "source": [
    "### Challenge 30"
   ]
  },
  {
   "cell_type": "code",
   "execution_count": 385,
   "metadata": {},
   "outputs": [],
   "source": [
    "# based on description at https://tools.ietf.org/html/rfc1320\n",
    "\n",
    "def F(X, Y, Z):\n",
    "    return (X & Y) | (~X & Z)\n",
    "\n",
    "def G(X, Y, Z):\n",
    "    return (X & Y) | (X & Z) | (Y & Z)\n",
    "\n",
    "def H(X, Y, Z):\n",
    "    return X ^ Y ^ Z\n",
    "\n",
    "def magic1(X, a, b, c, d, k, s):\n",
    "    return leftrotate(a + F(b,c,d) + X[k], s)\n",
    "\n",
    "def magic2(X, a, b, c, d, k, s):\n",
    "    return leftrotate(a + G(b,c,d) + X[k] + 0x5a827999, s)\n",
    "\n",
    "def magic3(X, a, b, c, d, k, s):\n",
    "    return leftrotate(a + H(b,c,d) + X[k] + 0x6ed9eba1, s)\n",
    "\n",
    "\n",
    "def md4(msg, A=0x01234567, B=0x89abcdef, C=0xfedcba98, D=0x76543210, custom_len=None):\n",
    "    msg += md_pad(len(msg), custom_len)  # TODO: padding is a bit different\n",
    "\n",
    "    for i in range(len(msg) // 64):  \n",
    "        \n",
    "        X = []\n",
    "        for j in range(16):\n",
    "            X.append(int.from_bytes(msg[4*(i*16+j):4*(i*16+j+1)], 'big'))\n",
    "                                        \n",
    "        AA = A\n",
    "        BB = B\n",
    "        CC = C\n",
    "        DD = D\n",
    "        \n",
    "        A = magic1(X, A, B, C, D, 0, 3)\n",
    "        A = magic1(X, A, B, C, D, 4, 3)\n",
    "        A = magic1(X, A, B, C, D, 8, 3)\n",
    "        A = magic1(X, A, B, C, D, 12, 3)\n",
    "        D = magic1(X, D, A, B, C, 1, 7)\n",
    "        D = magic1(X, D, A, B, C, 5, 7)\n",
    "        D = magic1(X, D, A, B, C, 9, 7)\n",
    "        D = magic1(X, D, A, B, C, 13, 7)\n",
    "        C = magic1(X, C, D, A, B, 2, 11)\n",
    "        C = magic1(X, C, D, A, B, 6, 11)\n",
    "        C = magic1(X, C, D, A, B, 10, 11)\n",
    "        C = magic1(X, C, D, A, B, 14, 11)\n",
    "        B = magic1(X, B, C, D, A, 3, 19)\n",
    "        B = magic1(X, B, C, D, A, 7, 19)\n",
    "        B = magic1(X, B, C, D, A, 11, 19)\n",
    "        B = magic1(X, B, C, D, A, 15, 19)\n",
    "         \n",
    "        A = magic2(X, A, B, C, D, 0, 3)\n",
    "        A = magic2(X, A, B, C, D, 1, 3)\n",
    "        A = magic2(X, A, B, C, D, 2, 3)\n",
    "        A = magic2(X, A, B, C, D, 3, 3)\n",
    "        D = magic2(X, D, A, B, C, 4, 5)\n",
    "        D = magic2(X, D, A, B, C, 5, 5)\n",
    "        D = magic2(X, D, A, B, C, 6, 5)\n",
    "        D = magic2(X, C, A, B, C, 7, 5)\n",
    "        C = magic2(X, C, D, A, B, 8, 9)\n",
    "        C = magic2(X, C, D, A, B, 9, 9)\n",
    "        C = magic2(X, C, D, A, B, 10, 9)\n",
    "        C = magic2(X, C, D, A, B, 11, 9)\n",
    "        B = magic2(X, B, C, D, A, 12, 13)\n",
    "        B = magic2(X, B, C, D, A, 13, 13)\n",
    "        B = magic2(X, B, C, D, A, 14, 13)\n",
    "        B = magic2(X, B, C, D, A, 15, 13)\n",
    "                \n",
    "        A = magic3(X, A, B, C, D, 0, 3)\n",
    "        A = magic3(X, A, B, C, D, 2, 3)\n",
    "        A = magic3(X, A, B, C, D, 1, 3)\n",
    "        A = magic3(X, A, B, C, D, 3, 3)\n",
    "        D = magic3(X, D, A, B, C, 8, 9)\n",
    "        D = magic3(X, D, A, B, C, 10, 9)\n",
    "        D = magic3(X, D, A, B, C, 9, 9)\n",
    "        D = magic3(X, D, A, B, C, 11, 9)\n",
    "        C = magic3(X, C, D, A, B, 4, 11)\n",
    "        C = magic3(X, C, D, A, B, 6, 11)\n",
    "        C = magic3(X, C, D, A, B, 5, 11)\n",
    "        C = magic3(X, C, D, A, B, 7, 11)\n",
    "        B = magic3(X, B, C, D, A, 12, 15)\n",
    "        B = magic3(X, B, C, D, A, 14, 15)\n",
    "        B = magic3(X, B, C, D, A, 13, 15)\n",
    "        B = magic3(X, B, C, D, A, 15, 15)\n",
    "        \n",
    "        A = (A + AA) % 2**32\n",
    "        B = (B + BB) % 2**32\n",
    "        C = (C + CC) % 2**32\n",
    "        D = (D + DD) % 2**32\n",
    "        \n",
    "    return (A << 96) | (B << 64) | (C << 32) | D"
   ]
  },
  {
   "cell_type": "code",
   "execution_count": 386,
   "metadata": {},
   "outputs": [
    {
     "data": {
      "text/plain": [
       "'3a19b5a64f9f6f6aba95ce31b23225ca'"
      ]
     },
     "execution_count": 386,
     "metadata": {},
     "output_type": "execute_result"
    }
   ],
   "source": [
    "md4(b'The quick brown fox jumps over the lazy dog').to_bytes(16, 'big').hex()"
   ]
  },
  {
   "cell_type": "code",
   "execution_count": 387,
   "metadata": {},
   "outputs": [
    {
     "data": {
      "text/plain": [
       "'4ed8851e8eed60810e72088419181558'"
      ]
     },
     "execution_count": 387,
     "metadata": {},
     "output_type": "execute_result"
    }
   ],
   "source": [
    "md4(b'The quick brown fox jumps over the hazy dog').to_bytes(16, 'big').hex()"
   ]
  },
  {
   "cell_type": "code",
   "execution_count": 388,
   "metadata": {},
   "outputs": [],
   "source": [
    "def recover_md_state(s):\n",
    "    return (s >> 96) & 0xffffffff, (s >> 64) & 0xffffffff, (s >> 32) & 0xffffffff, s & 0xffffffff"
   ]
  },
  {
   "cell_type": "code",
   "execution_count": 389,
   "metadata": {},
   "outputs": [
    {
     "name": "stdout",
     "output_type": "stream",
     "text": [
      "6 318318034757243947590078406317015093914\n"
     ]
    }
   ],
   "source": [
    "key = b'banana'\n",
    "orig_msg = b'comment1=cooking%20MCs;userdata=foo;comment2=%20like%20a%20pound%20of%20bacon'\n",
    "orig_hash = md4(key+orig_msg)\n",
    "append_str = b';admin=true'\n",
    "\n",
    "A, B, C, D = recover_md_state(orig_hash)\n",
    "\n",
    "for keylen in range(1, 17):\n",
    "    forged_msg = key + orig_msg + md_pad(keylen + len(orig_msg)) + append_str\n",
    "    new_hash = md4(append_str, A, B, C, D, len(forged_msg))\n",
    "    if new_hash == md4(forged_msg):\n",
    "        print(keylen, new_hash)"
   ]
  },
  {
   "cell_type": "markdown",
   "metadata": {},
   "source": [
    "### Challenge 31\n",
    "Sort of cheating here, since not using an actual web server."
   ]
  },
  {
   "cell_type": "code",
   "execution_count": 409,
   "metadata": {},
   "outputs": [],
   "source": [
    "def zero_pad(msg, block_size):\n",
    "    return msg + bytes([0] * (block_size * math.ceil(len(msg) / block_size) - len(msg)))"
   ]
  },
  {
   "cell_type": "code",
   "execution_count": 435,
   "metadata": {},
   "outputs": [],
   "source": [
    "# Based on pseudocode from https://en.wikipedia.org/wiki/HMAC\n",
    "\n",
    "def hmac(key, msg, hash_fn, block_size, output_size):\n",
    "    if len(key) > block_size:\n",
    "        key = hash(key)\n",
    "    if len(key) < block_size:\n",
    "        key = zero_pad(key, block_size)\n",
    "        \n",
    "    o_key_pad = xor(key, bytes([0x5c] * block_size))\n",
    "    i_key_pad = xor(key, bytes([0x36] * block_size))\n",
    "    \n",
    "    return hash_fn(o_key_pad + hash_fn(i_key_pad + msg).to_bytes(20, 'big'))"
   ]
  },
  {
   "cell_type": "code",
   "execution_count": 454,
   "metadata": {},
   "outputs": [],
   "source": [
    "import time\n",
    "\n",
    "key = random_bytes(8)\n",
    "\n",
    "def process_request(msg, sig):\n",
    "    return sig == hmac(key, msg, sha1, 64, 20)\n",
    "    \n",
    "def process_request_insecure(msg, sig, sleep_time):\n",
    "    sig = sig.to_bytes(20, 'big')\n",
    "    expected_sig = hmac(key, msg, sha1, 64, 20).to_bytes(20, 'big')\n",
    "    for i in range(len(sig)):\n",
    "        if sig[i] != expected_sig[i]:\n",
    "            return False\n",
    "        time.sleep(sleep_time)\n",
    "    return True   "
   ]
  },
  {
   "cell_type": "code",
   "execution_count": 455,
   "metadata": {},
   "outputs": [
    {
     "data": {
      "text/plain": [
       "True"
      ]
     },
     "execution_count": 455,
     "metadata": {},
     "output_type": "execute_result"
    }
   ],
   "source": [
    "process_request(b'hello world', hmac(key, b'hello world', sha1, 64, 20))"
   ]
  },
  {
   "cell_type": "code",
   "execution_count": 456,
   "metadata": {},
   "outputs": [
    {
     "data": {
      "text/plain": [
       "True"
      ]
     },
     "execution_count": 456,
     "metadata": {},
     "output_type": "execute_result"
    }
   ],
   "source": [
    "process_request_insecure(b'hello world', hmac(key, b'hello world', sha1, 64, 20))"
   ]
  },
  {
   "cell_type": "code",
   "execution_count": 459,
   "metadata": {},
   "outputs": [
    {
     "name": "stdout",
     "output_type": "stream",
     "text": [
      "b'\\xa7\\x0b)\\xff\\xfd\\x11\\xaa#\\x01\\xfe7\\xb2\\xa6:enS\\x85\\x86~'\n",
      "b'\\xa7\\x00\\x00\\x00\\x00\\x00\\x00\\x00\\x00\\x00\\x00\\x00\\x00\\x00\\x00\\x00\\x00\\x00\\x00\\x00'\n",
      "b'\\xa7\\x0b\\x00\\x00\\x00\\x00\\x00\\x00\\x00\\x00\\x00\\x00\\x00\\x00\\x00\\x00\\x00\\x00\\x00\\x00'\n",
      "b'\\xa7\\x0b)\\x00\\x00\\x00\\x00\\x00\\x00\\x00\\x00\\x00\\x00\\x00\\x00\\x00\\x00\\x00\\x00\\x00'\n",
      "b'\\xa7\\x0b)\\xff\\x00\\x00\\x00\\x00\\x00\\x00\\x00\\x00\\x00\\x00\\x00\\x00\\x00\\x00\\x00\\x00'\n",
      "b'\\xa7\\x0b)\\xff\\xfd\\x00\\x00\\x00\\x00\\x00\\x00\\x00\\x00\\x00\\x00\\x00\\x00\\x00\\x00\\x00'\n",
      "b'\\xa7\\x0b)\\xff\\xfd\\x11\\x00\\x00\\x00\\x00\\x00\\x00\\x00\\x00\\x00\\x00\\x00\\x00\\x00\\x00'\n",
      "b'\\xa7\\x0b)\\xff\\xfd\\x11\\xaa\\x00\\x00\\x00\\x00\\x00\\x00\\x00\\x00\\x00\\x00\\x00\\x00\\x00'\n",
      "b'\\xa7\\x0b)\\xff\\xfd\\x11\\xaa#\\x00\\x00\\x00\\x00\\x00\\x00\\x00\\x00\\x00\\x00\\x00\\x00'\n",
      "b'\\xa7\\x0b)\\xff\\xfd\\x11\\xaa#\\x01\\x00\\x00\\x00\\x00\\x00\\x00\\x00\\x00\\x00\\x00\\x00'\n",
      "b'\\xa7\\x0b)\\xff\\xfd\\x11\\xaa#\\x01\\xfe\\x00\\x00\\x00\\x00\\x00\\x00\\x00\\x00\\x00\\x00'\n",
      "b'\\xa7\\x0b)\\xff\\xfd\\x11\\xaa#\\x01\\xfe7\\x00\\x00\\x00\\x00\\x00\\x00\\x00\\x00\\x00'\n",
      "b'\\xa7\\x0b)\\xff\\xfd\\x11\\xaa#\\x01\\xfe7\\xb2\\x00\\x00\\x00\\x00\\x00\\x00\\x00\\x00'\n",
      "b'\\xa7\\x0b)\\xff\\xfd\\x11\\xaa#\\x01\\xfe7\\xb2\\xa6\\x00\\x00\\x00\\x00\\x00\\x00\\x00'\n",
      "b'\\xa7\\x0b)\\xff\\xfd\\x11\\xaa#\\x01\\xfe7\\xb2\\xa6:\\x00\\x00\\x00\\x00\\x00\\x00'\n",
      "b'\\xa7\\x0b)\\xff\\xfd\\x11\\xaa#\\x01\\xfe7\\xb2\\xa6:e\\x00\\x00\\x00\\x00\\x00'\n",
      "b'\\xa7\\x0b)\\xff\\xfd\\x11\\xaa#\\x01\\xfe7\\xb2\\xa6:en\\x00\\x00\\x00\\x00'\n",
      "b'\\xa7\\x0b)\\xff\\xfd\\x11\\xaa#\\x01\\xfe7\\xb2\\xa6:enS\\x00\\x00\\x00'\n",
      "b'\\xa7\\x0b)\\xff\\xfd\\x11\\xaa#\\x01\\xfe7\\xb2\\xa6:enS\\x85\\x00\\x00'\n",
      "b'\\xa7\\x0b)\\xff\\xfd\\x11\\xaa#\\x01\\xfe7\\xb2\\xa6:enS\\x85\\x86\\x00'\n",
      "b'\\xa7\\x0b)\\xff\\xfd\\x11\\xaa#\\x01\\xfe7\\xb2\\xa6:enS\\x85\\x86~'\n"
     ]
    }
   ],
   "source": [
    "msg = b'hello world'\n",
    "hash_guess = bytearray([0] * 20)\n",
    "\n",
    "print(hmac(key, msg, sha1, 64, 20).to_bytes(20, 'big'))\n",
    "\n",
    "for i in range(20):\n",
    "    slowest_bit = 0\n",
    "    longest_time = 0\n",
    "    for j in range(256):\n",
    "        hash_guess[i] = j\n",
    "        t0 = time.time()\n",
    "        # sleeping for as little as 5ms is OK for this approach\n",
    "        process_request_insecure(msg, int.from_bytes(hash_guess, 'big'), 0.005)\n",
    "        t1 = time.time()\n",
    "        j_time = t1 - t0\n",
    "        if j_time > longest_time:\n",
    "            slowest_bit = j\n",
    "            longest_time = j_time\n",
    "    hash_guess[i] = slowest_bit\n",
    "    print(bytes(hash_guess))"
   ]
  },
  {
   "cell_type": "markdown",
   "metadata": {},
   "source": [
    "### Challenge 32"
   ]
  },
  {
   "cell_type": "code",
   "execution_count": null,
   "metadata": {},
   "outputs": [],
   "source": [
    "msg = b'hello world'\n",
    "hash_guess = bytearray([0] * 20)\n",
    "\n",
    "print(hmac(key, msg, sha1, 64, 20).to_bytes(20, 'big'))\n",
    "\n",
    "NUM_SAMPLES = 100\n",
    "for i in range(20):\n",
    "    slowest_bit = 0\n",
    "    longest_time = 0\n",
    "    for j in range(256):\n",
    "        hash_guess[i] = j\n",
    "        j_times = []\n",
    "        for _ in range(NUM_SAMPLES):\n",
    "            t0 = time.time()\n",
    "            process_request_insecure(msg, int.from_bytes(hash_guess, 'big'), 0.001)\n",
    "            t1 = time.time()\n",
    "            j_times.append(t1 - t0)\n",
    "        j_time = sum(j_times) / NUM_SAMPLES\n",
    "        if j_time > longest_time:\n",
    "            slowest_bit = j\n",
    "            longest_time = j_time\n",
    "    hash_guess[i] = slowest_bit\n",
    "    print(bytes(hash_guess))"
   ]
  },
  {
   "cell_type": "code",
   "execution_count": null,
   "metadata": {},
   "outputs": [],
   "source": []
  }
 ],
 "metadata": {
  "kernelspec": {
   "display_name": "Python 3",
   "language": "python",
   "name": "python3"
  },
  "language_info": {
   "codemirror_mode": {
    "name": "ipython",
    "version": 3
   },
   "file_extension": ".py",
   "mimetype": "text/x-python",
   "name": "python",
   "nbconvert_exporter": "python",
   "pygments_lexer": "ipython3",
   "version": "3.6.7"
  }
 },
 "nbformat": 4,
 "nbformat_minor": 2
}
