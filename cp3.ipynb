{
 "cells": [
  {
   "cell_type": "code",
   "execution_count": 2,
   "metadata": {},
   "outputs": [],
   "source": [
    "from base64 import b64encode, b64decode\n",
    "from time import time, sleep\n",
    "import math, random\n",
    "import numpy as np\n",
    "from Crypto.Cipher import AES"
   ]
  },
  {
   "cell_type": "code",
   "execution_count": 3,
   "metadata": {},
   "outputs": [],
   "source": [
    "def xor(*args):\n",
    "    assert len(args) >= 2 and min(map(len, args)) == max(map(len, args))\n",
    "    if len(args) == 2:\n",
    "        a,b = args\n",
    "        return bytes([x^y for (x, y) in zip(a,b)])\n",
    "    else:\n",
    "        return xor(args[0], xor(*args[1:]))\n",
    "    \n",
    "def key_xor(msg, key):\n",
    "    stream = key * (len(msg) // len(key)) + key[:(len(msg) % len(key))]\n",
    "    return xor(msg, stream)\n",
    "\n",
    "def pad(msg, block_size):\n",
    "    extra_bytes = block_size - len(msg) % block_size \n",
    "    return msg + bytes([extra_bytes] * extra_bytes)\n",
    "\n",
    "class PaddingException(Exception):\n",
    "    pass\n",
    "\n",
    "def unpad(msg):\n",
    "    if not msg or not 0 < msg[-1] <= 16 or msg[-msg[-1]:] != bytes([msg[-1]] * msg[-1]):\n",
    "        raise PaddingException\n",
    "    return msg[:-msg[-1]]\n",
    "\n",
    "def random_bytes(len):\n",
    "    return bytes([random.randint(0,255) for _ in range(len)])\n",
    "\n",
    "def cbc_encrypt(msg, IV, cipher):\n",
    "    assert len(msg) % 16 == 0\n",
    "    assert len(IV) == 16\n",
    "    out = bytes([])\n",
    "    curr_block = IV[:]\n",
    "    for i in range(len(msg) // 16):\n",
    "        curr_block = xor(curr_block, msg[i*16:(i+1)*16])\n",
    "        curr_block = cipher.encrypt(curr_block)\n",
    "        out += curr_block\n",
    "    assert len(out) == len(msg)\n",
    "    return out\n",
    "\n",
    "def cbc_decrypt(ciphtxt, IV, cipher):\n",
    "    assert len(ciphtxt) % 16 == 0\n",
    "    assert len(IV) == 16\n",
    "    out = bytes([])\n",
    "    curr_block = IV[:]\n",
    "    for i in range(len(ciphtxt) // 16):\n",
    "        dec_block = cipher.decrypt(ciphtxt[i*16:(i+1)*16])\n",
    "        dec_block = xor(curr_block, dec_block)\n",
    "        out += dec_block\n",
    "        curr_block = ciphtxt[i*16:(i+1)*16]\n",
    "    assert len(out) == len(ciphtxt)\n",
    "    return out"
   ]
  },
  {
   "cell_type": "markdown",
   "metadata": {},
   "source": [
    "### Challenge 17"
   ]
  },
  {
   "cell_type": "code",
   "execution_count": 4,
   "metadata": {},
   "outputs": [],
   "source": [
    "msgs = [\n",
    "    'MDAwMDAwTm93IHRoYXQgdGhlIHBhcnR5IGlzIGp1bXBpbmc=',\n",
    "    'MDAwMDAxV2l0aCB0aGUgYmFzcyBraWNrZWQgaW4gYW5kIHRoZSBWZWdhJ3MgYXJlIHB1bXBpbic=',\n",
    "    'MDAwMDAyUXVpY2sgdG8gdGhlIHBvaW50LCB0byB0aGUgcG9pbnQsIG5vIGZha2luZw==',\n",
    "    'MDAwMDAzQ29va2luZyBNQydzIGxpa2UgYSBwb3VuZCBvZiBiYWNvbg==',\n",
    "    'MDAwMDA0QnVybmluZyAnZW0sIGlmIHlvdSBhaW4ndCBxdWljayBhbmQgbmltYmxl',\n",
    "    'MDAwMDA1SSBnbyBjcmF6eSB3aGVuIEkgaGVhciBhIGN5bWJhbA==',\n",
    "    'MDAwMDA2QW5kIGEgaGlnaCBoYXQgd2l0aCBhIHNvdXBlZCB1cCB0ZW1wbw==',\n",
    "    'MDAwMDA3SSdtIG9uIGEgcm9sbCwgaXQncyB0aW1lIHRvIGdvIHNvbG8=',\n",
    "    'MDAwMDA4b2xsaW4nIGluIG15IGZpdmUgcG9pbnQgb2g=',\n",
    "    'MDAwMDA5aXRoIG15IHJhZy10b3AgZG93biBzbyBteSBoYWlyIGNhbiBibG93',\n",
    "]\n",
    "msgs = [b64decode(str) for str in msgs]"
   ]
  },
  {
   "cell_type": "code",
   "execution_count": 5,
   "metadata": {},
   "outputs": [],
   "source": [
    "key = random_bytes(16)\n",
    "cipher = AES.new(key, AES.MODE_ECB)\n",
    "\n",
    "def encryption_oracle():\n",
    "    msg = msgs[random.randint(1, len(msgs)-1)]\n",
    "    IV = random_bytes(16)\n",
    "    return cbc_encrypt(pad(msg, 16), IV, cipher), IV\n",
    "\n",
    "def padding_oracle(ciphtxt, IV):\n",
    "    try:\n",
    "        unpad(cbc_decrypt(ciphtxt, IV, cipher))\n",
    "        return True\n",
    "    except PaddingException:\n",
    "        return False"
   ]
  },
  {
   "cell_type": "code",
   "execution_count": 6,
   "metadata": {},
   "outputs": [],
   "source": [
    "ciphtxt, IV = encryption_oracle()\n",
    "ciphtxt = IV + ciphtxt"
   ]
  },
  {
   "cell_type": "code",
   "execution_count": 7,
   "metadata": {},
   "outputs": [],
   "source": [
    "final_msg = b''\n",
    "\n",
    "for block in range(1, len(ciphtxt) // 16):\n",
    "    msg = b''\n",
    "    for offset in range(15, -1, -1):\n",
    "        pad_num = 16 - offset\n",
    "        while True:\n",
    "            for c in range(256):\n",
    "                prev_block = random_bytes(offset) + bytes([c]) + \\\n",
    "                             xor(ciphtxt[(block-1)*16+offset+1:block*16], msg, bytes([pad_num] * len(msg)))\n",
    "                curr_block = ciphtxt[block*16:(block+1)*16]\n",
    "                if padding_oracle(curr_block, prev_block):\n",
    "                    msg = bytes([c ^ pad_num ^ ciphtxt[(block-1)*16+offset]]) + msg\n",
    "                    break\n",
    "            if len(msg) + offset + 1 > 16:\n",
    "                break\n",
    "    final_msg += msg"
   ]
  },
  {
   "cell_type": "code",
   "execution_count": 8,
   "metadata": {},
   "outputs": [
    {
     "data": {
      "text/plain": [
       "b\"000003Cooking MC's like a pound of bacon\\x08\\x08\\x08\\x08\\x08\\x08\\x08\\x08\""
      ]
     },
     "execution_count": 8,
     "metadata": {},
     "output_type": "execute_result"
    }
   ],
   "source": [
    "final_msg"
   ]
  },
  {
   "cell_type": "markdown",
   "metadata": {},
   "source": [
    "### Challenge 18"
   ]
  },
  {
   "cell_type": "code",
   "execution_count": 9,
   "metadata": {},
   "outputs": [],
   "source": [
    "key = \"YELLOW SUBMARINE\"\n",
    "nonce = bytes(8)\n",
    "cipher = AES.new(key, AES.MODE_ECB)\n",
    "\n",
    "def ctr_keystream(nonce, count, cipher):\n",
    "    return cipher.encrypt(nonce + count.to_bytes(8, byteorder='little'))\n",
    "\n",
    "def ctr(msg, nonce, cipher):\n",
    "    out = b''\n",
    "    count = 0\n",
    "    for i in range(len(msg) // 16):\n",
    "        out += xor(ctr_keystream(nonce, count, cipher), msg[i*16:(i+1)*16])\n",
    "        count += 1\n",
    "    out += xor(ctr_keystream(nonce, count, cipher)[:len(msg)%16], msg[len(msg)-len(msg)%16:])\n",
    "    return out"
   ]
  },
  {
   "cell_type": "code",
   "execution_count": 10,
   "metadata": {},
   "outputs": [
    {
     "data": {
      "text/plain": [
       "b\"Yo, VIP Let's kick it Ice, Ice, baby Ice, Ice, baby \""
      ]
     },
     "execution_count": 10,
     "metadata": {},
     "output_type": "execute_result"
    }
   ],
   "source": [
    "ciphtxt = b'L77na/nrFsKvynd6HzOoG7GHTLXsTVu9qvY/2syLXzhPweyyMTJULu/6/kXX0KSvoOLSFQ=='\n",
    "ciphtxt = b64decode(ciphtxt)\n",
    "ctr(ciphtxt, nonce, cipher)"
   ]
  },
  {
   "cell_type": "markdown",
   "metadata": {},
   "source": [
    "### Challenge 19"
   ]
  },
  {
   "cell_type": "code",
   "execution_count": 11,
   "metadata": {},
   "outputs": [],
   "source": [
    "freq = {' ': 20, \n",
    "        'e': 12.70, \n",
    "        't': 9.06, \n",
    "        'a': 8.17, \n",
    "        'o': 7.51, \n",
    "        'i': 6.97, \n",
    "        'n': 6.75, \n",
    "        's': 6.33, \n",
    "        'h': 6.09, \n",
    "        'r': 5.99, \n",
    "        'd': 4.25, \n",
    "        'l': 4.03, \n",
    "        'c': 2.78, \n",
    "        'u': 2.76, \n",
    "        'm': 2.41, \n",
    "        'w': 2.36, \n",
    "        'f': 2.23, \n",
    "        'g': 2.02, \n",
    "        'y': 1.97, \n",
    "        'p': 1.93, \n",
    "        'b': 1.29, \n",
    "        'v': 0.98, \n",
    "        'k': 0.77, \n",
    "        'j': 0.15, \n",
    "        'x': 0.15, \n",
    "        'q': 0.10, \n",
    "        'z': 0.07}\n",
    "\n",
    "def get_msg_score(msg):\n",
    "    return sum([(0 if chr(b).lower() not in freq else freq[chr(b).lower()]) for b in msg])"
   ]
  },
  {
   "cell_type": "code",
   "execution_count": 12,
   "metadata": {},
   "outputs": [],
   "source": [
    "msgs = \\\n",
    "    '''SSBoYXZlIG1ldCB0aGVtIGF0IGNsb3NlIG9mIGRheQ==\n",
    "    Q29taW5nIHdpdGggdml2aWQgZmFjZXM=\n",
    "    RnJvbSBjb3VudGVyIG9yIGRlc2sgYW1vbmcgZ3JleQ==\n",
    "    RWlnaHRlZW50aC1jZW50dXJ5IGhvdXNlcy4=\n",
    "    SSBoYXZlIHBhc3NlZCB3aXRoIGEgbm9kIG9mIHRoZSBoZWFk\n",
    "    T3IgcG9saXRlIG1lYW5pbmdsZXNzIHdvcmRzLA==\n",
    "    T3IgaGF2ZSBsaW5nZXJlZCBhd2hpbGUgYW5kIHNhaWQ=\n",
    "    UG9saXRlIG1lYW5pbmdsZXNzIHdvcmRzLA==\n",
    "    QW5kIHRob3VnaHQgYmVmb3JlIEkgaGFkIGRvbmU=\n",
    "    T2YgYSBtb2NraW5nIHRhbGUgb3IgYSBnaWJl\n",
    "    VG8gcGxlYXNlIGEgY29tcGFuaW9u\n",
    "    QXJvdW5kIHRoZSBmaXJlIGF0IHRoZSBjbHViLA==\n",
    "    QmVpbmcgY2VydGFpbiB0aGF0IHRoZXkgYW5kIEk=\n",
    "    QnV0IGxpdmVkIHdoZXJlIG1vdGxleSBpcyB3b3JuOg==\n",
    "    QWxsIGNoYW5nZWQsIGNoYW5nZWQgdXR0ZXJseTo=\n",
    "    QSB0ZXJyaWJsZSBiZWF1dHkgaXMgYm9ybi4=\n",
    "    VGhhdCB3b21hbidzIGRheXMgd2VyZSBzcGVudA==\n",
    "    SW4gaWdub3JhbnQgZ29vZCB3aWxsLA==\n",
    "    SGVyIG5pZ2h0cyBpbiBhcmd1bWVudA==\n",
    "    VW50aWwgaGVyIHZvaWNlIGdyZXcgc2hyaWxsLg==\n",
    "    V2hhdCB2b2ljZSBtb3JlIHN3ZWV0IHRoYW4gaGVycw==\n",
    "    V2hlbiB5b3VuZyBhbmQgYmVhdXRpZnVsLA==\n",
    "    U2hlIHJvZGUgdG8gaGFycmllcnM/\n",
    "    VGhpcyBtYW4gaGFkIGtlcHQgYSBzY2hvb2w=\n",
    "    QW5kIHJvZGUgb3VyIHdpbmdlZCBob3JzZS4=\n",
    "    VGhpcyBvdGhlciBoaXMgaGVscGVyIGFuZCBmcmllbmQ=\n",
    "    V2FzIGNvbWluZyBpbnRvIGhpcyBmb3JjZTs=\n",
    "    SGUgbWlnaHQgaGF2ZSB3b24gZmFtZSBpbiB0aGUgZW5kLA==\n",
    "    U28gc2Vuc2l0aXZlIGhpcyBuYXR1cmUgc2VlbWVkLA==\n",
    "    U28gZGFyaW5nIGFuZCBzd2VldCBoaXMgdGhvdWdodC4=\n",
    "    VGhpcyBvdGhlciBtYW4gSSBoYWQgZHJlYW1lZA==\n",
    "    QSBkcnVua2VuLCB2YWluLWdsb3Jpb3VzIGxvdXQu\n",
    "    SGUgaGFkIGRvbmUgbW9zdCBiaXR0ZXIgd3Jvbmc=\n",
    "    VG8gc29tZSB3aG8gYXJlIG5lYXIgbXkgaGVhcnQs\n",
    "    WWV0IEkgbnVtYmVyIGhpbSBpbiB0aGUgc29uZzs=\n",
    "    SGUsIHRvbywgaGFzIHJlc2lnbmVkIGhpcyBwYXJ0\n",
    "    SW4gdGhlIGNhc3VhbCBjb21lZHk7\n",
    "    SGUsIHRvbywgaGFzIGJlZW4gY2hhbmdlZCBpbiBoaXMgdHVybiw=\n",
    "    VHJhbnNmb3JtZWQgdXR0ZXJseTo=\n",
    "    QSB0ZXJyaWJsZSBiZWF1dHkgaXMgYm9ybi4='''.split('\\n')\n",
    "msgs = [b64decode(str) for str in msgs]"
   ]
  },
  {
   "cell_type": "code",
   "execution_count": 13,
   "metadata": {},
   "outputs": [],
   "source": [
    "ciphtxts = [ctr(msg, nonce, cipher) for msg in msgs]"
   ]
  },
  {
   "cell_type": "code",
   "execution_count": 14,
   "metadata": {},
   "outputs": [
    {
     "name": "stdout",
     "output_type": "stream",
     "text": [
      "b'i have met them at close of dau'\n",
      "b'coming with vivid faces'\n",
      "b'from counter or desk among greu'\n",
      "b'eighteenth-century houses.'\n",
      "b'i have passed with a nod of thidhi  '\n",
      "b'or polite meaningless words,'\n",
      "b'or have lingered awhile and sae '\n",
      "b'polite meaningless words,'\n",
      "b'and thought before I had done'\n",
      "b'of a mocking tale or a gibe'\n",
      "b'to please a companion'\n",
      "b'around the fire at the club,'\n",
      "b'being certain that they and I'\n",
      "b'but lived where motley is worn6'\n",
      "b'all changed, changed utterly:'\n",
      "b'a terrible beauty is born.'\n",
      "b\"that woman's days were spent\"\n",
      "b'in ignorant good will,'\n",
      "b'her nights in argument'\n",
      "b'until her voice grew shrill.'\n",
      "b'what voice more sweet than her\\x7f'\n",
      "b'when young and beautiful,'\n",
      "b'she rode to harriers?'\n",
      "b'this man had kept a school'\n",
      "b'and rode our winged horse.'\n",
      "b'this other his helper and frieb '\n",
      "b'was coming into his force;'\n",
      "b'he might have won fame in the i*d '\n",
      "b'so sensitive his nature seemed '\n",
      "b'so daring and sweet his thoughxj'\n",
      "b'this other man I had dreamed'\n",
      "b'a drunken, vain-glorious lout.'\n",
      "b'he had done most bitter wrong'\n",
      "b'to some who are near my heart,'\n",
      "b'yet I number him in the song;'\n",
      "b'he, too, has resigned his part'\n",
      "b'in the casual comedy;'\n",
      "b'he, too, has been changed in he7 x46  '\n",
      "b'transformed utterly:'\n",
      "b'a terrible beauty is born.'\n"
     ]
    }
   ],
   "source": [
    "keystream = bytearray(b'')\n",
    "\n",
    "for i in range(max([len(msg) for msg in msgs])):\n",
    "    best_ch = None\n",
    "    best_score = 0\n",
    "    for ch in range(256):\n",
    "        score = 0\n",
    "        for ciphtxt in ciphtxts:\n",
    "            if i < len(ciphtxt) and chr(ciphtxt[i] ^ ch) in freq:\n",
    "                score += freq[chr(ciphtxt[i] ^ ch)]\n",
    "        if score > best_score:\n",
    "            best_score = score\n",
    "            best_ch = ch\n",
    "    keystream.append(best_ch)\n",
    "    \n",
    "keystream = bytes(keystream)\n",
    "\n",
    "for ciphtxt in ciphtxts:\n",
    "    print(key_xor(ciphtxt, keystream))"
   ]
  },
  {
   "cell_type": "markdown",
   "metadata": {},
   "source": [
    "### Challenge 20"
   ]
  },
  {
   "cell_type": "code",
   "execution_count": 15,
   "metadata": {},
   "outputs": [],
   "source": [
    "data = bytearray()\n",
    "with open('data/20.txt', 'r') as file:\n",
    "    ciphtxts = [ctr(b64decode(line), nonce, cipher) for line in file.readlines()]\n",
    "    max_len = max([len(ciphtxt) for ciphtxt in ciphtxts])\n",
    "    for ciphtxt in ciphtxts:\n",
    "        data += ciphtxt\n",
    "        data += random_bytes(max_len - len(ciphtxt))"
   ]
  },
  {
   "cell_type": "code",
   "execution_count": 16,
   "metadata": {},
   "outputs": [],
   "source": [
    "def best_msg_score(x):\n",
    "    best_score = -float('inf')\n",
    "    for c in range(256):\n",
    "        y = bytes([b ^ c for b in x])\n",
    "        score = get_msg_score(y)\n",
    "        if score >= best_score:\n",
    "            best_letter = chr(c)\n",
    "            best_score = score\n",
    "            msg = y\n",
    "    return best_letter, best_score, msg"
   ]
  },
  {
   "cell_type": "code",
   "execution_count": 17,
   "metadata": {},
   "outputs": [
    {
     "name": "stdout",
     "output_type": "stream",
     "text": [
      "b'N\\'m rated \"R\"...this is a warning, ya better void / Poets are paranoid, DJ\\'s D-stroyed'\n",
      "b\"Duz I came back to attack others in spite- / Strike like lightnin', It's quite frightenin'!\"\n",
      "b\"Eut don't be afraid in the dark, in a park / Not a scream or a cry, or a bark, more like a spark*\"\n",
      "b\"^a tremble like a alcoholic, muscles tighten up / What's that, lighten up! You see a sight but\"\n",
      "b'Tuddenly you feel like your in a horror flick / You grab your heart then wish for tomorrow quick0'\n",
      "b\"Jusic's the clue, when I come your warned / Apocalypse Now, when I'm done, ya gone!\"\n",
      "b\"Oaven't you ever heard of a MC-murderer? / This is the death penalty,and I'm servin' a\"\n",
      "b'Ceath wish, so come on, step to this / Hysterical idea for a lyrical professionist!'\n",
      "b'Ariday the thirteenth, walking down Elm Street / You come in my realm ya get beat!'\n",
      "b'Shis is off limits, so your visions are blurry / All ya see is the meters at a volume'\n",
      "b\"Serror in the styles, never error-files / Indeed I'm known-your exiled!\"\n",
      "b\"Aor those that oppose to be level or next to this / I ain't a devil and this ain't the Exorcist!\"\n",
      "b\"Porse than a nightmare, you don't have to sleep a wink / The pain's a migraine every time ya thi\\x7fk\"\n",
      "b'Alashbacks interfere, ya start to hear: / The R-A-K-I-M in your ear;'\n",
      "b'Shen the beat is hysterical / That makes Eric go get a ax and chops the wack'\n",
      "b'Toon the lyrical format is superior / Faces of death remain'\n",
      "b\"JC's decaying, cuz they never stayed / The scene of a crime every night at the show\"\n",
      "b\"She fiend of a rhyme on the mic that you know / It's only one capable, breaks-the unbreakable\"\n",
      "b'Jelodies-unmakable, pattern-unescapable / A horn if want the style I posses'\n",
      "b'N bless the child, the earth, the gods and bomb the rest / For those that envy a MC it can be'\n",
      "b'Oazardous to your health so be friendly / A matter of life and death, just like a etch-a-sketch'\n",
      "b\"Thake 'till your clear, make it disappear, make the next / After the ceremony, let the rhyme rese \\x8ev\\x99\\xd3\\x04\\xa1{1\"\n",
      "b\"Nf not, my soul'll release! / The scene is recreated, reincarnated, updated, I'm glad you made ie\"\n",
      "b'Duz your about to see a disastrous sight / A performance never again performed on a mic:'\n",
      "b'Kyrics of fury! A fearified freestyle! / The \"R\" is in the house-too much tension!'\n",
      "b\"Jake sure the system's loud when I mention / Phrases that's fearsome\"\n",
      "b'^ou want to hear some sounds that not only pounds but please your eardrums; / I sit back and obstr\\x91}\\x99\\xd7\\t\\xa58#Jx\\xb8 \\xe2@I\\x8aQ\\xad\\t\\x15'\n",
      "b\"Shen nonchalantly tell you what it mean to me / Strictly business I'm quickly in this mood\"\n",
      "b\"Fnd I don't care if the whole crowd's a witness! / I'm a tear you apart but I'm a spare you a hepr\\x93\"\n",
      "b\"Wrogram into the speed of the rhyme, prepare to start / Rhythm's out of the radius, insane as tht \\x84j\\xd8\\xd9\\x08\\xa5k \"\n",
      "b\"Jusical madness MC ever made, see it's / Now an emergency, open-heart surgery\"\n",
      "b\"Hpen your mind, you will find every word'll be / Furier than ever, I remain the furture\"\n",
      "b\"Eattle's tempting...whatever suits ya! / For words the sentence, there's no resemblance\"\n",
      "b\"^ou think you're ruffer, then suffer the consequences! / I'm never dying-terrifying results\"\n",
      "b'N wake ya with hundreds of thousands of volts / Mic-to-mouth resuscitation, rhythm with radiatio\\x7f'\n",
      "b\"Iovocain ease the pain it might save him / If not, Eric B.'s the judge, the crowd's the jury\"\n",
      "b\"^o Rakim, what's up? / Yo, I'm doing the knowledge, E., man I'm trying to get paid in full\"\n",
      "b'Pell, check this out, since Norby Walters is our agency, right? / True'\n",
      "b'Lara Lewis is our agent, word up / Zakia and 4th and Broadway is our record company, indeed'\n",
      "b\"Hkay, so who we rollin' with then? We rollin' with Rush / Of Rushtown Management\"\n",
      "b'Dheck this out, since we talking over / This def beat right here that I put together'\n",
      "b\"N wanna hear some of them def rhymes, you know what I'm sayin'? / And together, we can get paid xn\\xc7~\\xcc\\xcf\\r\"\n",
      "b\"Shinkin' of a master plan / 'Cuz ain't nuthin' but sweat inside my hand\"\n",
      "b\"To I dig into my pocket, all my money is spent / So I dig deeper but still comin' up with lint\"\n",
      "b\"To I start my mission, leave my residence / Thinkin' how could I get some dead presidents\"\n",
      "b'N need money, I used to be a stick-up kid / So I think of all the devious things I did'\n",
      "b\"N used to roll up, this is a hold up, ain't nuthin' funny / Stop smiling, be still, don't nuthin6 \\x8aw\\xcf\\xc6A\\xa2m \\x02c\\xbc \\xe2^E\\x81Z\\xb1\"\n",
      "b\"Eut now I learned to earn 'cuz I'm righteous / I feel great, so maybe I might just\"\n",
      "b\"Tearch for a nine to five, if I strive / Then maybe I'll stay alive\"\n",
      "b\"To I walk up the street whistlin' this / Feelin' out of place 'cuz, man, do I miss\"\n",
      "b'F pen and a paper, a stereo, a tape of / Me and Eric B, and a nice big plate of'\n",
      "b\"Aish, which is my favorite dish / But without no money it's still a wish\"\n",
      "b\" Cuz I don't like to dream about gettin' paid / So I dig into the books of the rhymes that I madt\"\n",
      "b\"To now to test to see if I got pull / Hit the studio, 'cuz I'm paid in full\"\n",
      "b\"Uakim, check this out, yo / You go to your girl house and I'll go to mine\"\n",
      "b\" Cause my girl is definitely mad / 'Cause it took us too long to do this album\"\n",
      "b\"^o, I hear what you're saying / So let's just pump the music up\"\n",
      "b'Fnd count our money / Yo, well check this out, yo Eli'\n",
      "b\"Surn down the bass down / And let the beat just keep on rockin'\"\n",
      "b'Fnd we outta here / Yo, what happened to peace? / Peace'\n"
     ]
    }
   ],
   "source": [
    "blocks = []\n",
    "for k in range(max_len):\n",
    "    blocks.append([])\n",
    "    for i in range(k, len(data), max_len):\n",
    "        blocks[k].append(data[i])\n",
    "    blocks[k] = bytes(blocks[k])\n",
    "        \n",
    "letters = []\n",
    "for block in blocks:\n",
    "    letter, _, _ = best_msg_score(block)\n",
    "    letters.append(letter)\n",
    "    \n",
    "key = bytes([ord(letter) for letter in letters])\n",
    "\n",
    "for ciphtxt in ciphtxts:\n",
    "    print(key_xor(ciphtxt, key))"
   ]
  },
  {
   "cell_type": "markdown",
   "metadata": {},
   "source": [
    "### Challenge 21"
   ]
  },
  {
   "cell_type": "code",
   "execution_count": 18,
   "metadata": {},
   "outputs": [],
   "source": [
    "def get_lowest_bits(x, n):\n",
    "    return x & int('0' * (32-n) + '1' * n, 2)"
   ]
  },
  {
   "cell_type": "code",
   "execution_count": 19,
   "metadata": {},
   "outputs": [],
   "source": [
    "# based on pseudocode from https://en.wikipedia.org/wiki/Mersenne_Twister\n",
    "\n",
    "w, n, m, r = 32, 624, 397, 31\n",
    "a = int('9908b0df', 16)\n",
    "u, d = 11, int('ffffffff', 16)\n",
    "s, b = 7, int('9d2c5680', 16)\n",
    "t, c = 15, int('efc60000', 16)\n",
    "l = 18\n",
    "f = 1812433253"
   ]
  },
  {
   "cell_type": "code",
   "execution_count": 20,
   "metadata": {},
   "outputs": [],
   "source": [
    "MT = [0] * n\n",
    "index = n + 1\n",
    "lower_mask = (1 << r) - 1\n",
    "upper_mask = get_lowest_bits(~lower_mask, w)\n",
    "\n",
    "def seed_mt(seed):\n",
    "    global MT, index\n",
    "    index = n\n",
    "    MT[0] = seed\n",
    "    for i in range(1, n):\n",
    "        MT[i] = get_lowest_bits(f * (MT[i-1] ^ (MT[i-1] >> (w-2))) + i, w)\n",
    "        \n",
    "def extract_number():\n",
    "    global MT, index\n",
    "    if index >= n:\n",
    "        if index > n:\n",
    "            raise Exception(\"Generator was never seeded\")\n",
    "        twist()\n",
    "    \n",
    "    y = MT[index]\n",
    "    y ^= (y >> u) & d\n",
    "    y ^= (y << s) & b\n",
    "    y ^= (y << t) & c\n",
    "    y ^= (y >> l)\n",
    "    \n",
    "    index += 1\n",
    "    return get_lowest_bits(y, w)\n",
    "\n",
    "def twist():\n",
    "    global MT, index\n",
    "    for i in range(n):\n",
    "        x = MT[i] & upper_mask + MT[(i+1) % n] & lower_mask\n",
    "        xA = x >> 1\n",
    "        if x % 2 != 0:\n",
    "            xA ^= a\n",
    "        MT[i] = MT[(i+1) % n] ^ xA\n",
    "    index = 0"
   ]
  },
  {
   "cell_type": "code",
   "execution_count": 21,
   "metadata": {},
   "outputs": [
    {
     "name": "stdout",
     "output_type": "stream",
     "text": [
      "1445446450\n",
      "1764435502\n",
      "3060188693\n",
      "1245365347\n",
      "453264056\n",
      "1789102384\n",
      "2923918431\n",
      "3919004792\n",
      "2632166984\n",
      "3571494490\n"
     ]
    }
   ],
   "source": [
    "seed_mt(1234)\n",
    "for i in range(10):\n",
    "    print(extract_number())"
   ]
  },
  {
   "cell_type": "markdown",
   "metadata": {},
   "source": [
    "### Challenge 22"
   ]
  },
  {
   "cell_type": "code",
   "execution_count": 22,
   "metadata": {},
   "outputs": [],
   "source": [
    "def mt_timestamp_oracle(min_wait=4, max_wait=10):\n",
    "    sleep(random.randint(min_wait, max_wait))\n",
    "    seed_mt(int(time()))\n",
    "    sleep(random.randint(min_wait, max_wait))\n",
    "    return extract_number()"
   ]
  },
  {
   "cell_type": "code",
   "execution_count": 23,
   "metadata": {},
   "outputs": [
    {
     "name": "stdout",
     "output_type": "stream",
     "text": [
      "1545412067\n",
      "2978197721\n",
      "1545412081\n"
     ]
    }
   ],
   "source": [
    "start_time = int(time())\n",
    "print(start_time)\n",
    "x = mt_timestamp_oracle()\n",
    "print(x)\n",
    "end_time = int(time())\n",
    "print(end_time)"
   ]
  },
  {
   "cell_type": "code",
   "execution_count": 24,
   "metadata": {},
   "outputs": [
    {
     "name": "stdout",
     "output_type": "stream",
     "text": [
      "1545412071\n"
     ]
    }
   ],
   "source": [
    "for seed in range(start_time, end_time+1):\n",
    "    seed_mt(seed)\n",
    "    y = extract_number()\n",
    "    if y == x:\n",
    "        print(seed)\n",
    "        break"
   ]
  },
  {
   "cell_type": "markdown",
   "metadata": {},
   "source": [
    "### Challenge 23"
   ]
  },
  {
   "cell_type": "code",
   "execution_count": 25,
   "metadata": {},
   "outputs": [],
   "source": [
    "def mt_oracle():\n",
    "    out = []\n",
    "    seed = random.randint(0, 2**32 - 1)\n",
    "    seed_mt(seed)\n",
    "    return [extract_number() for _ in range(624)]\n",
    "    \n",
    "mt_out = mt_oracle()"
   ]
  },
  {
   "cell_type": "code",
   "execution_count": 26,
   "metadata": {},
   "outputs": [],
   "source": [
    "def reverse_rshift_xor(z, s, mask=None):\n",
    "    y = y_t = 0\n",
    "    first_s_mask = int('1' * s + '0' * (32-s), 2)\n",
    "    for i in range(math.ceil(32 / s)):\n",
    "        if not mask:\n",
    "            y_t ^= (z & first_s_mask)\n",
    "        else:\n",
    "            y_t = (y_t & mask) ^ (z & first_s_mask)\n",
    "            mask <<= s\n",
    "        y |= y_t >> (s * i)\n",
    "        z <<= s\n",
    "    return y\n",
    "\n",
    "def reverse_lshift_xor(z, s, mask=None):\n",
    "    y = y_t = 0\n",
    "    last_s_mask = int('0' * (32-s) + '1' * s, 2)\n",
    "    for i in range(math.ceil(32 / s)):\n",
    "        if not mask:\n",
    "            y_t ^= (z & last_s_mask)\n",
    "        else:\n",
    "            y_t = (y_t & mask) ^ (z & last_s_mask)\n",
    "            mask >>= s\n",
    "        y |= y_t << (s * i)\n",
    "        z >>= s\n",
    "    return y\n",
    "\n",
    "def untemper(z):\n",
    "    z = reverse_rshift_xor(z, l)\n",
    "    z = reverse_lshift_xor(z, t, c)\n",
    "    z = reverse_lshift_xor(z, s, b)\n",
    "    z = reverse_rshift_xor(z, u, d)\n",
    "    return z"
   ]
  },
  {
   "cell_type": "code",
   "execution_count": 27,
   "metadata": {},
   "outputs": [],
   "source": [
    "y_test = random.randint(0, 2**32 - 1)\n",
    "y_test_init = y_test\n",
    "\n",
    "y_test ^= (y_test >> u) & d\n",
    "y_test ^= (y_test << s) & b\n",
    "y_test ^= (y_test << t) & c\n",
    "y_test ^= (y_test >> l)\n",
    "\n",
    "assert untemper(y_test) == y_test_init"
   ]
  },
  {
   "cell_type": "code",
   "execution_count": 28,
   "metadata": {},
   "outputs": [],
   "source": [
    "MT = []\n",
    "index = 0\n",
    "\n",
    "for z in mt_out:\n",
    "    MT.append(untemper(z))\n",
    "    \n",
    "for i in range(624):\n",
    "    assert extract_number() == mt_out[i]"
   ]
  },
  {
   "cell_type": "markdown",
   "metadata": {},
   "source": [
    "### Challenge 24"
   ]
  },
  {
   "cell_type": "code",
   "execution_count": 29,
   "metadata": {},
   "outputs": [],
   "source": [
    "def mts_keystream(seed, num_bytes):\n",
    "    out = bytearray([])\n",
    "    seed_mt(seed)\n",
    "    while len(out) < num_bytes:\n",
    "        num = extract_number()\n",
    "        out += num.to_bytes(4, byteorder='big')\n",
    "    return bytes(out[:num_bytes])"
   ]
  },
  {
   "cell_type": "code",
   "execution_count": 30,
   "metadata": {},
   "outputs": [],
   "source": [
    "def mts_stream_oracle():\n",
    "    seed = random.randint(0, 2**16-1)\n",
    "    msg = random_bytes(random.randint(0, 16)) + 14 * b'A'\n",
    "    return key_xor(msg, mts_keystream(seed, len(msg)))"
   ]
  },
  {
   "cell_type": "code",
   "execution_count": 31,
   "metadata": {},
   "outputs": [],
   "source": [
    "ciphtxt = mts_stream_oracle()"
   ]
  },
  {
   "cell_type": "code",
   "execution_count": 32,
   "metadata": {},
   "outputs": [
    {
     "name": "stdout",
     "output_type": "stream",
     "text": [
      "60175\n"
     ]
    }
   ],
   "source": [
    "ptext_start = math.ceil((len(ciphtxt) - 14) / 4) * 4\n",
    "stream = xor(ciphtxt[ptext_start:ptext_start+8], 8 * b'A')\n",
    "num1 = int.from_bytes(stream[:4], byteorder='big')\n",
    "num2 = int.from_bytes(stream[4:], byteorder='big')\n",
    "for seed in range(2**16):\n",
    "    seed_mt(seed)\n",
    "    [extract_number() for _ in range(ptext_start // 4)]\n",
    "    if extract_number() == num1 and extract_number() == num2:\n",
    "        print(seed)\n",
    "        break"
   ]
  },
  {
   "cell_type": "markdown",
   "metadata": {},
   "source": [
    "TODO: last part of Challenge 24"
   ]
  },
  {
   "cell_type": "code",
   "execution_count": null,
   "metadata": {},
   "outputs": [],
   "source": []
  }
 ],
 "metadata": {
  "kernelspec": {
   "display_name": "Python 3",
   "language": "python",
   "name": "python3"
  },
  "language_info": {
   "codemirror_mode": {
    "name": "ipython",
    "version": 3
   },
   "file_extension": ".py",
   "mimetype": "text/x-python",
   "name": "python",
   "nbconvert_exporter": "python",
   "pygments_lexer": "ipython3",
   "version": "3.6.7"
  }
 },
 "nbformat": 4,
 "nbformat_minor": 2
}
